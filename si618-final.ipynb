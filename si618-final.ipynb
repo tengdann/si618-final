{
 "cells": [
  {
   "cell_type": "markdown",
   "metadata": {},
   "source": [
    "# Bombing Operations during the Vietnam War"
   ]
  },
  {
   "cell_type": "markdown",
   "metadata": {},
   "source": [
    "## Introduction\n",
    "### History\n",
    "The Vietnam War was one of the costliest and most divisive conflicts the US has been involved in, to date. While no formal declaration of war was issued, American advisors had been involved in the Indochina region since the French occupation post-World War II. Formal US involvement began in earnest in 1964, after the [Gulf of Tonkin incident](https://en.wikipedia.org/wiki/Gulf_of_Tonkin_incident).  \n",
    "\n",
    "The US and its allies relied heavily on air superiority to carry out offensive operations. The US also conducted large-scale strategic bombing campaigns in North Vietnam, some of the largest since the end of the Second World War. In the end, however, US involvement was not enough to prop up the South Vietnamese government and armed forces. As a result of the [Tet Offensive](https://en.wikipedia.org/wiki/Tet_Offensive), which showed the clear inabilitiy of the [ARVN](https://en.wikipedia.org/wiki/Army_of_the_Republic_of_Vietnam) to resist [NVA](https://en.wikipedia.org/wiki/People%27s_Army_of_Vietnam) forces, the US began to implement [\"Vietnamization\"](https://en.wikipedia.org/wiki/Vietnamization). Two years after the withdraw of US forces in August 1973, Saigon fell to the NVA, and North and South Vietnam were reunited the following year (1976).  \n",
    "\n",
    "### U.S. Air Force Doctrine\n",
    "USAF doctrine during this period focused heavily on close-air support and massive strategic bombing campaigns. Because of the notoriously thick jungle environment of Vietnam, close-air support aircraft began carrying napalm. As well, missions using Agent Orange were flown to defoliate the jungle, to try and increase the effectiveness of air support assets.  \n",
    "\n",
    "Strategic bombing was a mainstay of the USAF bomber doctrine, ever since the end of the Second World War. However, because of fears of drawing China into the conflict, targets were heavily limited by the Johnson and Nixon administrations. As a result, the effectiveness of these strategic bombing campaigns were limited. When they were effectively employed, heavy bombers, such as the B-52, mainly targetted large factory complexes, in an attempt to degrade the North Vietnamese supply line and warfighting capabilities.  \n",
    "\n",
    "Because of the general inaccuracy of carpet bombing, and the increased visibility of civilian casualties, more precise weapon systems were developed. These would heavily influence Air Force doctrine for the years to come."
   ]
  },
  {
   "cell_type": "markdown",
   "metadata": {},
   "source": [
    "![](b52_linebacker.jpg)"
   ]
  },
  {
   "cell_type": "markdown",
   "metadata": {},
   "source": [
    "## Loading the Data"
   ]
  },
  {
   "cell_type": "code",
   "execution_count": 1,
   "metadata": {},
   "outputs": [],
   "source": [
    "import re\n",
    "import zipfile\n",
    "import time\n",
    "import warnings\n",
    "import numpy as np\n",
    "import pandas as pd\n",
    "import seaborn as sns\n",
    "import matplotlib.pyplot as plt\n",
    "from datetime import datetime\n",
    "\n",
    "warnings.filterwarnings('ignore')\n",
    "%matplotlib inline"
   ]
  },
  {
   "cell_type": "code",
   "execution_count": 2,
   "metadata": {},
   "outputs": [
    {
     "name": "stdout",
     "output_type": "stream",
     "text": [
      "3 files loaded in 33.47473883628845 seconds\n"
     ]
    }
   ],
   "source": [
    "start = time.time()\n",
    "z = zipfile.ZipFile('vietnam-war-bombing-operations.zip')\n",
    "aircrafts = pd.read_csv(z.open('THOR_Vietnam_Aircraft_Glossary.csv'), encoding = 'ISO-8859-1')\n",
    "weapons = pd.read_csv(z.open('THOR_Vietnam_Weapons_Glossary.csv'),encoding = 'ISO-8859-1')\n",
    "bombing_ops = pd.read_csv(z.open('THOR_Vietnam_Bombing_Operations.csv'))\n",
    "end = time.time()\n",
    "print(f'3 files loaded in {end - start} seconds')"
   ]
  },
  {
   "cell_type": "code",
   "execution_count": 3,
   "metadata": {},
   "outputs": [
    {
     "name": "stdout",
     "output_type": "stream",
     "text": [
      "------DATASET SHAPES------\n",
      "BOMBING OPS: (4670416, 47)\n",
      "AIRCRAFT: (104, 8)\n",
      "WEAPONS: (294, 6)\n"
     ]
    }
   ],
   "source": [
    "print('------DATASET SHAPES------')\n",
    "print('BOMBING OPS:', bombing_ops.shape)\n",
    "print('AIRCRAFT:', aircrafts.shape)\n",
    "print('WEAPONS:', weapons.shape)"
   ]
  },
  {
   "cell_type": "code",
   "execution_count": 7,
   "metadata": {},
   "outputs": [
    {
     "data": {
      "text/html": [
       "<div>\n",
       "<style scoped>\n",
       "    .dataframe tbody tr th:only-of-type {\n",
       "        vertical-align: middle;\n",
       "    }\n",
       "\n",
       "    .dataframe tbody tr th {\n",
       "        vertical-align: top;\n",
       "    }\n",
       "\n",
       "    .dataframe thead th {\n",
       "        text-align: right;\n",
       "    }\n",
       "</style>\n",
       "<table border=\"1\" class=\"dataframe\">\n",
       "  <thead>\n",
       "    <tr style=\"text-align: right;\">\n",
       "      <th></th>\n",
       "      <th>THOR_DATA_VIET_ID</th>\n",
       "      <th>COUNTRYFLYINGMISSION</th>\n",
       "      <th>MILSERVICE</th>\n",
       "      <th>MSNDATE</th>\n",
       "      <th>SOURCEID</th>\n",
       "      <th>SOURCERECORD</th>\n",
       "      <th>VALID_AIRCRAFT_ROOT</th>\n",
       "      <th>TAKEOFFLOCATION</th>\n",
       "      <th>TGTLATDD_DDD_WGS84</th>\n",
       "      <th>TGTLONDDD_DDD_WGS84</th>\n",
       "      <th>...</th>\n",
       "      <th>GEOZONE</th>\n",
       "      <th>ID</th>\n",
       "      <th>MFUNC_DESC_CLASS</th>\n",
       "      <th>NUMWEAPONSJETTISONED</th>\n",
       "      <th>NUMWEAPONSRETURNED</th>\n",
       "      <th>RELEASEALTITUDE</th>\n",
       "      <th>RELEASEFLTSPEED</th>\n",
       "      <th>RESULTSBDA</th>\n",
       "      <th>TIMEOFFTARGET</th>\n",
       "      <th>WEAPONSLOADEDWEIGHT</th>\n",
       "    </tr>\n",
       "  </thead>\n",
       "  <tbody>\n",
       "    <tr>\n",
       "      <th>0</th>\n",
       "      <td>351</td>\n",
       "      <td>UNITED STATES OF AMERICA</td>\n",
       "      <td>USAF</td>\n",
       "      <td>1971-06-05</td>\n",
       "      <td>647464</td>\n",
       "      <td>SEADAB</td>\n",
       "      <td>EC-47</td>\n",
       "      <td>TAN SON NHUT</td>\n",
       "      <td>NaN</td>\n",
       "      <td>NaN</td>\n",
       "      <td>...</td>\n",
       "      <td>NaN</td>\n",
       "      <td>27135863</td>\n",
       "      <td>NONKINETIC</td>\n",
       "      <td>-1</td>\n",
       "      <td>-1</td>\n",
       "      <td>NaN</td>\n",
       "      <td>NaN</td>\n",
       "      <td>NaN</td>\n",
       "      <td>1005.0</td>\n",
       "      <td>0</td>\n",
       "    </tr>\n",
       "    <tr>\n",
       "      <th>1</th>\n",
       "      <td>2</td>\n",
       "      <td>UNITED STATES OF AMERICA</td>\n",
       "      <td>USAF</td>\n",
       "      <td>1972-12-26</td>\n",
       "      <td>642778</td>\n",
       "      <td>SEADAB</td>\n",
       "      <td>EC-47</td>\n",
       "      <td>NAKHON PHANOM</td>\n",
       "      <td>NaN</td>\n",
       "      <td>NaN</td>\n",
       "      <td>...</td>\n",
       "      <td>NaN</td>\n",
       "      <td>27131177</td>\n",
       "      <td>NONKINETIC</td>\n",
       "      <td>-1</td>\n",
       "      <td>-1</td>\n",
       "      <td>NaN</td>\n",
       "      <td>NaN</td>\n",
       "      <td>NaN</td>\n",
       "      <td>530.0</td>\n",
       "      <td>0</td>\n",
       "    </tr>\n",
       "    <tr>\n",
       "      <th>2</th>\n",
       "      <td>3</td>\n",
       "      <td>UNITED STATES OF AMERICA</td>\n",
       "      <td>USAF</td>\n",
       "      <td>1973-07-28</td>\n",
       "      <td>642779</td>\n",
       "      <td>SEADAB</td>\n",
       "      <td>RF-4</td>\n",
       "      <td>UDORN AB</td>\n",
       "      <td>NaN</td>\n",
       "      <td>NaN</td>\n",
       "      <td>...</td>\n",
       "      <td>NaN</td>\n",
       "      <td>27131178</td>\n",
       "      <td>NONKINETIC</td>\n",
       "      <td>-1</td>\n",
       "      <td>-1</td>\n",
       "      <td>NaN</td>\n",
       "      <td>NaN</td>\n",
       "      <td>NaN</td>\n",
       "      <td>730.0</td>\n",
       "      <td>0</td>\n",
       "    </tr>\n",
       "  </tbody>\n",
       "</table>\n",
       "<p>3 rows × 47 columns</p>\n",
       "</div>"
      ],
      "text/plain": [
       "   THOR_DATA_VIET_ID      COUNTRYFLYINGMISSION MILSERVICE     MSNDATE  \\\n",
       "0                351  UNITED STATES OF AMERICA       USAF  1971-06-05   \n",
       "1                  2  UNITED STATES OF AMERICA       USAF  1972-12-26   \n",
       "2                  3  UNITED STATES OF AMERICA       USAF  1973-07-28   \n",
       "\n",
       "   SOURCEID SOURCERECORD VALID_AIRCRAFT_ROOT TAKEOFFLOCATION  \\\n",
       "0    647464       SEADAB               EC-47    TAN SON NHUT   \n",
       "1    642778       SEADAB               EC-47   NAKHON PHANOM   \n",
       "2    642779       SEADAB                RF-4        UDORN AB   \n",
       "\n",
       "   TGTLATDD_DDD_WGS84  TGTLONDDD_DDD_WGS84  ... GEOZONE        ID  \\\n",
       "0                 NaN                  NaN  ...     NaN  27135863   \n",
       "1                 NaN                  NaN  ...     NaN  27131177   \n",
       "2                 NaN                  NaN  ...     NaN  27131178   \n",
       "\n",
       "   MFUNC_DESC_CLASS NUMWEAPONSJETTISONED  NUMWEAPONSRETURNED  RELEASEALTITUDE  \\\n",
       "0        NONKINETIC                   -1                  -1              NaN   \n",
       "1        NONKINETIC                   -1                  -1              NaN   \n",
       "2        NONKINETIC                   -1                  -1              NaN   \n",
       "\n",
       "  RELEASEFLTSPEED RESULTSBDA TIMEOFFTARGET WEAPONSLOADEDWEIGHT  \n",
       "0             NaN        NaN        1005.0                   0  \n",
       "1             NaN        NaN         530.0                   0  \n",
       "2             NaN        NaN         730.0                   0  \n",
       "\n",
       "[3 rows x 47 columns]"
      ]
     },
     "execution_count": 7,
     "metadata": {},
     "output_type": "execute_result"
    }
   ],
   "source": [
    "bombing_ops.head(3)"
   ]
  },
  {
   "cell_type": "code",
   "execution_count": 7,
   "metadata": {},
   "outputs": [
    {
     "data": {
      "text/plain": [
       "Index(['COUNTRYFLYINGMISSION', 'MILSERVICE', 'MSNDATE', 'SOURCEID',\n",
       "       'SOURCERECORD', 'VALID_AIRCRAFT_ROOT', 'TAKEOFFLOCATION',\n",
       "       'TGTLATDD_DDD_WGS84', 'TGTLONDDD_DDD_WGS84', 'TGTTYPE',\n",
       "       'NUMWEAPONSDELIVERED', 'TIMEONTARGET', 'WEAPONTYPE', 'WEAPONTYPECLASS',\n",
       "       'WEAPONTYPEWEIGHT', 'AIRCRAFT_ORIGINAL', 'AIRCRAFT_ROOT',\n",
       "       'AIRFORCEGROUP', 'AIRFORCESQDN', 'CALLSIGN', 'FLTHOURS', 'MFUNC',\n",
       "       'MFUNC_DESC', 'MISSIONID', 'NUMOFACFT', 'OPERATIONSUPPORTED',\n",
       "       'PERIODOFDAY', 'UNIT', 'TGTCLOUDCOVER', 'TGTCONTROL', 'TGTCOUNTRY',\n",
       "       'TGTID', 'TGTORIGCOORDS', 'TGTORIGCOORDSFORMAT', 'TGTWEATHER',\n",
       "       'ADDITIONALINFO', 'GEOZONE', 'ID', 'MFUNC_DESC_CLASS',\n",
       "       'NUMWEAPONSJETTISONED', 'NUMWEAPONSRETURNED', 'RELEASEALTITUDE',\n",
       "       'RELEASEFLTSPEED', 'RESULTSBDA', 'TIMEOFFTARGET',\n",
       "       'WEAPONSLOADEDWEIGHT'],\n",
       "      dtype='object')"
      ]
     },
     "execution_count": 7,
     "metadata": {},
     "output_type": "execute_result"
    }
   ],
   "source": [
    "bombing_ops.columns"
   ]
  },
  {
   "cell_type": "code",
   "execution_count": 6,
   "metadata": {},
   "outputs": [
    {
     "data": {
      "text/html": [
       "<div>\n",
       "<style scoped>\n",
       "    .dataframe tbody tr th:only-of-type {\n",
       "        vertical-align: middle;\n",
       "    }\n",
       "\n",
       "    .dataframe tbody tr th {\n",
       "        vertical-align: top;\n",
       "    }\n",
       "\n",
       "    .dataframe thead th {\n",
       "        text-align: right;\n",
       "    }\n",
       "</style>\n",
       "<table border=\"1\" class=\"dataframe\">\n",
       "  <thead>\n",
       "    <tr style=\"text-align: right;\">\n",
       "      <th></th>\n",
       "      <th>GLOSS_ID</th>\n",
       "      <th>VALIDATED_ROOT</th>\n",
       "      <th>AIRCRAFT_NAME</th>\n",
       "      <th>WEBSITE_LINK</th>\n",
       "      <th>AIRCRAFT_TYPE</th>\n",
       "      <th>AIRCRAFT_SHORTNAME</th>\n",
       "      <th>AIRCRAFT_APPLICATION</th>\n",
       "      <th>AC_MISSION_COUNT</th>\n",
       "    </tr>\n",
       "  </thead>\n",
       "  <tbody>\n",
       "    <tr>\n",
       "      <th>0</th>\n",
       "      <td>1</td>\n",
       "      <td>A-1</td>\n",
       "      <td>Douglas A-1 Skyraider</td>\n",
       "      <td>http://www.navalaviationmuseum.org/attractions...</td>\n",
       "      <td>Fighter Jet</td>\n",
       "      <td>Skyraider</td>\n",
       "      <td>FIGHTER</td>\n",
       "      <td>373265</td>\n",
       "    </tr>\n",
       "    <tr>\n",
       "      <th>1</th>\n",
       "      <td>2</td>\n",
       "      <td>A-26</td>\n",
       "      <td>Douglas A-26 Invader</td>\n",
       "      <td>http://www.militaryfactory.com/aircraft/detail...</td>\n",
       "      <td>Light Bomber</td>\n",
       "      <td>Invader</td>\n",
       "      <td>BOMBER</td>\n",
       "      <td>36672</td>\n",
       "    </tr>\n",
       "    <tr>\n",
       "      <th>2</th>\n",
       "      <td>4</td>\n",
       "      <td>A-37</td>\n",
       "      <td>Cessna A-37 Dragonfly</td>\n",
       "      <td>http://www.militaryfactory.com/aircraft/detail...</td>\n",
       "      <td>Light ground-attack aircraft</td>\n",
       "      <td>Dragonfly</td>\n",
       "      <td>ATTACK</td>\n",
       "      <td>282699</td>\n",
       "    </tr>\n",
       "  </tbody>\n",
       "</table>\n",
       "</div>"
      ],
      "text/plain": [
       "   GLOSS_ID VALIDATED_ROOT          AIRCRAFT_NAME  \\\n",
       "0         1            A-1  Douglas A-1 Skyraider   \n",
       "1         2           A-26   Douglas A-26 Invader   \n",
       "2         4           A-37  Cessna A-37 Dragonfly   \n",
       "\n",
       "                                        WEBSITE_LINK  \\\n",
       "0  http://www.navalaviationmuseum.org/attractions...   \n",
       "1  http://www.militaryfactory.com/aircraft/detail...   \n",
       "2  http://www.militaryfactory.com/aircraft/detail...   \n",
       "\n",
       "                  AIRCRAFT_TYPE AIRCRAFT_SHORTNAME AIRCRAFT_APPLICATION  \\\n",
       "0                   Fighter Jet          Skyraider              FIGHTER   \n",
       "1                  Light Bomber            Invader               BOMBER   \n",
       "2  Light ground-attack aircraft          Dragonfly               ATTACK   \n",
       "\n",
       "   AC_MISSION_COUNT  \n",
       "0            373265  \n",
       "1             36672  \n",
       "2            282699  "
      ]
     },
     "execution_count": 6,
     "metadata": {},
     "output_type": "execute_result"
    }
   ],
   "source": [
    "aircrafts.head(3)"
   ]
  },
  {
   "cell_type": "code",
   "execution_count": 7,
   "metadata": {},
   "outputs": [
    {
     "data": {
      "text/plain": [
       "Index(['GLOSS_ID', 'VALIDATED_ROOT', 'AIRCRAFT_NAME', 'WEBSITE_LINK',\n",
       "       'AIRCRAFT_TYPE', 'AIRCRAFT_SHORTNAME', 'AIRCRAFT_APPLICATION',\n",
       "       'AC_MISSION_COUNT'],\n",
       "      dtype='object')"
      ]
     },
     "execution_count": 7,
     "metadata": {},
     "output_type": "execute_result"
    }
   ],
   "source": [
    "aircrafts.columns"
   ]
  },
  {
   "cell_type": "code",
   "execution_count": 8,
   "metadata": {},
   "outputs": [
    {
     "data": {
      "text/html": [
       "<div>\n",
       "<style scoped>\n",
       "    .dataframe tbody tr th:only-of-type {\n",
       "        vertical-align: middle;\n",
       "    }\n",
       "\n",
       "    .dataframe tbody tr th {\n",
       "        vertical-align: top;\n",
       "    }\n",
       "\n",
       "    .dataframe thead th {\n",
       "        text-align: right;\n",
       "    }\n",
       "</style>\n",
       "<table border=\"1\" class=\"dataframe\">\n",
       "  <thead>\n",
       "    <tr style=\"text-align: right;\">\n",
       "      <th></th>\n",
       "      <th>WEAPON_ID</th>\n",
       "      <th>WEAPONTYPE</th>\n",
       "      <th>WEAPONTYPE_COMMON_NAME</th>\n",
       "      <th>WEAPON_CLASS</th>\n",
       "      <th>WEAPONTYPE_DESC</th>\n",
       "      <th>WEAPON_COUNT</th>\n",
       "    </tr>\n",
       "  </thead>\n",
       "  <tbody>\n",
       "    <tr>\n",
       "      <th>0</th>\n",
       "      <td>1</td>\n",
       "      <td>100 GP</td>\n",
       "      <td>General Purpose Bomb</td>\n",
       "      <td>BOMB</td>\n",
       "      <td>100 lb general purpose</td>\n",
       "      <td>1</td>\n",
       "    </tr>\n",
       "    <tr>\n",
       "      <th>1</th>\n",
       "      <td>2</td>\n",
       "      <td>1000 G</td>\n",
       "      <td>Megaboller flash powder bomb</td>\n",
       "      <td>BOMB</td>\n",
       "      <td>1000 g BKS</td>\n",
       "      <td>2</td>\n",
       "    </tr>\n",
       "    <tr>\n",
       "      <th>2</th>\n",
       "      <td>3</td>\n",
       "      <td>1000LB GP M-65</td>\n",
       "      <td>An-M65</td>\n",
       "      <td>BOMB</td>\n",
       "      <td>1000 lb general purpose</td>\n",
       "      <td>12776</td>\n",
       "    </tr>\n",
       "  </tbody>\n",
       "</table>\n",
       "</div>"
      ],
      "text/plain": [
       "   WEAPON_ID      WEAPONTYPE        WEAPONTYPE_COMMON_NAME WEAPON_CLASS  \\\n",
       "0          1          100 GP          General Purpose Bomb         BOMB   \n",
       "1          2          1000 G  Megaboller flash powder bomb         BOMB   \n",
       "2          3  1000LB GP M-65                        An-M65         BOMB   \n",
       "\n",
       "            WEAPONTYPE_DESC  WEAPON_COUNT  \n",
       "0    100 lb general purpose             1  \n",
       "1                1000 g BKS             2  \n",
       "2  1000 lb general purpose          12776  "
      ]
     },
     "execution_count": 8,
     "metadata": {},
     "output_type": "execute_result"
    }
   ],
   "source": [
    "weapons.head(3)"
   ]
  },
  {
   "cell_type": "code",
   "execution_count": 9,
   "metadata": {},
   "outputs": [
    {
     "data": {
      "text/plain": [
       "Index(['WEAPON_ID', 'WEAPONTYPE', 'WEAPONTYPE_COMMON_NAME', 'WEAPON_CLASS',\n",
       "       'WEAPONTYPE_DESC', 'WEAPON_COUNT'],\n",
       "      dtype='object')"
      ]
     },
     "execution_count": 9,
     "metadata": {},
     "output_type": "execute_result"
    }
   ],
   "source": [
    "weapons.columns"
   ]
  },
  {
   "cell_type": "markdown",
   "metadata": {},
   "source": [
    "## Data Analysis and Visualization  \n",
    "### Which country flew the most combat missions?"
   ]
  },
  {
   "cell_type": "code",
   "execution_count": 8,
   "metadata": {},
   "outputs": [
    {
     "data": {
      "image/png": "[encoded data removed]",
      "text/plain": [
       "<Figure size 1080x720 with 1 Axes>"
      ]
     },
     "metadata": {
      "needs_background": "light"
     },
     "output_type": "display_data"
    }
   ],
   "source": [
    "country_missions = bombing_ops.COUNTRYFLYINGMISSION\n",
    "country_counts = country_missions.value_counts()\n",
    "x, y = country_counts.keys().tolist(), country_counts.values\n",
    "\n",
    "plt.figure(figsize = (15,10))\n",
    "ax = sns.barplot(x = x, y = y, palette = sns.color_palette('GnBu_d'))\n",
    "plt.xlabel('Country')\n",
    "plt.ylabel('# of Missions')\n",
    "plt.title('Missions Flown by Country')\n",
    "\n",
    "# From https://stackoverflow.com/questions/25447700/annotate-bars-with-values-on-pandas-bar-plots\n",
    "# Since SNS has no intuitive method to annotate\n",
    "for p in ax.patches: \n",
    "    ax.annotate(np.round(p.get_height(),decimals=2), (p.get_x()+p.get_width()/2., p.get_height()), ha='center', va='center', xytext=(0, 10), textcoords='offset points')"
   ]
  },
  {
   "cell_type": "markdown",
   "metadata": {},
   "source": [
    "As to be expected, the United States flew the most missions. South Vietnam came in second, which makes sense, given the resources and equipment the US provided for ARVN."
   ]
  },
  {
   "cell_type": "markdown",
   "metadata": {},
   "source": [
    "### Which branch flew the most missions for the United States?"
   ]
  },
  {
   "cell_type": "code",
   "execution_count": 9,
   "metadata": {},
   "outputs": [
    {
     "data": {
      "image/png": "[encoded data removed]",
      "text/plain": [
       "<Figure size 1080x720 with 1 Axes>"
      ]
     },
     "metadata": {
      "needs_background": "light"
     },
     "output_type": "display_data"
    }
   ],
   "source": [
    "branches = bombing_ops[bombing_ops.COUNTRYFLYINGMISSION == 'UNITED STATES OF AMERICA'].MILSERVICE\n",
    "branch_counts = branches.value_counts()\n",
    "x, y = branch_counts.keys().tolist(), branch_counts.values\n",
    "\n",
    "plt.figure(figsize = (15,10))\n",
    "ax = sns.barplot(x = x, y = y, palette = sns.color_palette('GnBu_d'))\n",
    "plt.xlabel('Service Branch')\n",
    "plt.ylabel('# of Missions')\n",
    "plt.title('Missions Flown by Service Branch')\n",
    "\n",
    "for p in ax.patches: \n",
    "    ax.annotate(np.round(p.get_height(),decimals=2), (p.get_x()+p.get_width()/2., p.get_height()), ha='center', va='center', xytext=(0, 10), textcoords='offset points')"
   ]
  },
  {
   "cell_type": "markdown",
   "metadata": {},
   "source": [
    "As expected, the US Air Force flew the most combat sorties of all the four branches. Interestingly, the Army has a number of sorties listed. However, the number is too small to be rotary-wing aircraft, so it seems the Army did have fixed-wing aviation in country during the Vietnam War."
   ]
  },
  {
   "cell_type": "markdown",
   "metadata": {},
   "source": [
    "### Which years saw the heaviest bombing, by tonnage?"
   ]
  },
  {
   "cell_type": "code",
   "execution_count": 24,
   "metadata": {},
   "outputs": [],
   "source": [
    "years = bombing_ops.copy()\n",
    "years_filt = years[years.NUMWEAPONSDELIVERED > 0]"
   ]
  },
  {
   "cell_type": "code",
   "execution_count": 25,
   "metadata": {},
   "outputs": [],
   "source": [
    "pat = re.compile(r'(\\d{4})-(\\d{2})-(\\d{2})')\n",
    "def get_year(row):\n",
    "    try:\n",
    "        if re.search(pat, row.MSNDATE):\n",
    "            match = re.search(pat, row.MSNDATE)\n",
    "            return match[1]\n",
    "        else:\n",
    "            return str(row.MSNDATE)[:4]\n",
    "    except:\n",
    "        return None\n",
    "\n",
    "years_filt['year'] = years_filt.apply(get_year, axis = 1)"
   ]
  },
  {
   "cell_type": "code",
   "execution_count": 35,
   "metadata": {},
   "outputs": [],
   "source": [
    "def sortie_tonnage(row):\n",
    "    return (row.NUMWEAPONSDELIVERED * row.WEAPONTYPEWEIGHT) / 2000 # Weapon weight is in lbs; divide by 2000 to get tons\n",
    "\n",
    "years_filt['sortie_tonnage'] = years_filt.apply(sortie_tonnage, axis = 1)"
   ]
  },
  {
   "cell_type": "code",
   "execution_count": 36,
   "metadata": {},
   "outputs": [],
   "source": [
    "years_tonnage = years_filt.groupby('year').sum().sortie_tonnage.reset_index()"
   ]
  },
  {
   "cell_type": "code",
   "execution_count": 37,
   "metadata": {},
   "outputs": [
    {
     "data": {
      "image/png": "[encoded data removed]",
      "text/plain": [
       "<Figure size 1080x720 with 1 Axes>"
      ]
     },
     "metadata": {
      "needs_background": "light"
     },
     "output_type": "display_data"
    }
   ],
   "source": [
    "plt.figure(figsize = (15,10))\n",
    "ax = sns.barplot(x = years_tonnage.year, y = years_tonnage.sortie_tonnage, palette = sns.color_palette('GnBu_d'))\n",
    "plt.xlabel('Year')\n",
    "plt.ylabel('Tonnage Dropped')\n",
    "plt.title('Tonnage Dropped by Year')\n",
    "\n",
    "for p in ax.patches: \n",
    "    ax.annotate(np.round(p.get_height(),decimals=2), (p.get_x()+p.get_width()/2., p.get_height()), ha='center', va='center', xytext=(0, 10), textcoords='offset points')"
   ]
  },
  {
   "cell_type": "markdown",
   "metadata": {},
   "source": [
    "The year 1972 saw the most bombs dropped by tons (1,506,489.04). In fact, the 82 raids carried out in the first three months of 1972 exceeded all raids carried out during [1971](https://en.wikipedia.org/wiki/1972_in_the_Vietnam_War#cite_note-20). The year 1970 saw the second most tons dropped during the Vietnam War (1,419,363.99 tons)."
   ]
  },
  {
   "cell_type": "markdown",
   "metadata": {},
   "source": [
    "### Can we predict the country of origin for a bombing mission, given the sortie characteristics?"
   ]
  },
  {
   "cell_type": "code",
   "execution_count": 3,
   "metadata": {},
   "outputs": [],
   "source": [
    "import numpy as np\n",
    "import pandas as pd\n",
    "import scipy as sp\n",
    "import sklearn as sk\n",
    "from sklearn.model_selection import train_test_split\n",
    "from sklearn.model_selection import cross_val_score\n",
    "import sklearn.ensemble as skens\n",
    "import sklearn.metrics as skmetric\n",
    "import sklearn.naive_bayes as sknb\n",
    "import sklearn.tree as sktree"
   ]
  },
  {
   "cell_type": "code",
   "execution_count": 4,
   "metadata": {},
   "outputs": [],
   "source": [
    "bombing_ml = bombing_ops[bombing_ops.NUMWEAPONSDELIVERED > 0]\n",
    "col = 'COUNTRYFLYINGMISSION'\n",
    "conditions = [\n",
    "    bombing_ml[col] == 'UNITED STATES OF AMERICA', \n",
    "    bombing_ml[col] == 'VIETNAM (SOUTH)',\n",
    "    bombing_ml[col] == 'LAOS',\n",
    "    bombing_ml[col] == 'KOREA (SOUTH)',\n",
    "    bombing_ml[col] == 'AUSTRALIA'\n",
    "]\n",
    "choices = [ 0, 1, 2, 3, 4 ]\n",
    "\n",
    "bombing_ml['type'] = np.select(conditions, choices, default=np.nan).astype('int')"
   ]
  },
  {
   "cell_type": "code",
   "execution_count": 12,
   "metadata": {},
   "outputs": [
    {
     "data": {
      "text/plain": [
       "3           1\n",
       "5           1\n",
       "13         48\n",
       "15          1\n",
       "21         79\n",
       "23          5\n",
       "24          1\n",
       "25          4\n",
       "28          3\n",
       "29          3\n",
       "30          1\n",
       "32         48\n",
       "35          3\n",
       "36          5\n",
       "37          1\n",
       "40          1\n",
       "41          4\n",
       "46          4\n",
       "51         61\n",
       "52          4\n",
       "53          5\n",
       "55          5\n",
       "57         48\n",
       "62          5\n",
       "63          3\n",
       "64          5\n",
       "68          4\n",
       "71         37\n",
       "73         61\n",
       "76          1\n",
       "           ..\n",
       "4670336    74\n",
       "4670341    97\n",
       "4670342     1\n",
       "4670343     4\n",
       "4670346    48\n",
       "4670349    97\n",
       "4670351    50\n",
       "4670352     5\n",
       "4670355     5\n",
       "4670356    48\n",
       "4670357     4\n",
       "4670359     1\n",
       "4670360    48\n",
       "4670363    51\n",
       "4670364     5\n",
       "4670366     4\n",
       "4670368     1\n",
       "4670370     4\n",
       "4670375     5\n",
       "4670377     4\n",
       "4670378    74\n",
       "4670388    44\n",
       "4670389     1\n",
       "4670394    44\n",
       "4670400    48\n",
       "4670402    48\n",
       "4670408    37\n",
       "4670411     1\n",
       "4670412     4\n",
       "4670413     5\n",
       "Name: MFUNC, Length: 2346224, dtype: object"
      ]
     },
     "execution_count": 12,
     "metadata": {},
     "output_type": "execute_result"
    }
   ],
   "source": [
    "bombing_ml.MFUNC"
   ]
  },
  {
   "cell_type": "code",
   "execution_count": 6,
   "metadata": {},
   "outputs": [
    {
     "data": {
      "text/plain": [
       "THOR_DATA_VIET_ID       2346224\n",
       "COUNTRYFLYINGMISSION          5\n",
       "MILSERVICE                    9\n",
       "MSNDATE                    4472\n",
       "SOURCEID                2016058\n",
       "SOURCERECORD                  4\n",
       "VALID_AIRCRAFT_ROOT         100\n",
       "TAKEOFFLOCATION              85\n",
       "TGTLATDD_DDD_WGS84       389500\n",
       "TGTLONDDD_DDD_WGS84      369845\n",
       "TGTTYPE                     255\n",
       "NUMWEAPONSDELIVERED        4610\n",
       "TIMEONTARGET               1555\n",
       "WEAPONTYPE                  293\n",
       "WEAPONTYPECLASS               0\n",
       "WEAPONTYPEWEIGHT             89\n",
       "AIRCRAFT_ORIGINAL           321\n",
       "AIRCRAFT_ROOT               111\n",
       "AIRFORCEGROUP                16\n",
       "AIRFORCESQDN                 55\n",
       "CALLSIGN                   9209\n",
       "FLTHOURS                   2264\n",
       "MFUNC                       243\n",
       "MFUNC_DESC                   93\n",
       "MISSIONID                 49805\n",
       "NUMOFACFT                   157\n",
       "OPERATIONSUPPORTED        44898\n",
       "PERIODOFDAY                  15\n",
       "UNIT                       1346\n",
       "TGTCLOUDCOVER                 8\n",
       "TGTCONTROL                   14\n",
       "TGTCOUNTRY                    7\n",
       "TGTID                         0\n",
       "TGTORIGCOORDS            821237\n",
       "TGTORIGCOORDSFORMAT           7\n",
       "TGTWEATHER                13407\n",
       "ADDITIONALINFO           280185\n",
       "GEOZONE                      83\n",
       "ID                      2346224\n",
       "MFUNC_DESC_CLASS              2\n",
       "NUMWEAPONSJETTISONED        123\n",
       "NUMWEAPONSRETURNED          374\n",
       "RELEASEALTITUDE              60\n",
       "RELEASEFLTSPEED              28\n",
       "RESULTSBDA                   27\n",
       "TIMEOFFTARGET              1571\n",
       "WEAPONSLOADEDWEIGHT        2224\n",
       "type                          6\n",
       "dtype: int64"
      ]
     },
     "execution_count": 6,
     "metadata": {},
     "output_type": "execute_result"
    }
   ],
   "source": [
    "bombing_ml.nunique()"
   ]
  },
  {
   "cell_type": "code",
   "execution_count": 17,
   "metadata": {},
   "outputs": [
    {
     "name": "stdout",
     "output_type": "stream",
     "text": [
      "(1103272, 29)\n"
     ]
    },
    {
     "data": {
      "text/html": [
       "<div>\n",
       "<style scoped>\n",
       "    .dataframe tbody tr th:only-of-type {\n",
       "        vertical-align: middle;\n",
       "    }\n",
       "\n",
       "    .dataframe tbody tr th {\n",
       "        vertical-align: top;\n",
       "    }\n",
       "\n",
       "    .dataframe thead th {\n",
       "        text-align: right;\n",
       "    }\n",
       "</style>\n",
       "<table border=\"1\" class=\"dataframe\">\n",
       "  <thead>\n",
       "    <tr style=\"text-align: right;\">\n",
       "      <th></th>\n",
       "      <th>MILSERVICE</th>\n",
       "      <th>VALID_AIRCRAFT_ROOT</th>\n",
       "      <th>TAKEOFFLOCATION</th>\n",
       "      <th>TGTLATDD_DDD_WGS84</th>\n",
       "      <th>TGTLONDDD_DDD_WGS84</th>\n",
       "      <th>NUMWEAPONSDELIVERED</th>\n",
       "      <th>TIMEONTARGET</th>\n",
       "      <th>WEAPONTYPEWEIGHT</th>\n",
       "      <th>AIRFORCEGROUP</th>\n",
       "      <th>AIRFORCESQDN</th>\n",
       "      <th>...</th>\n",
       "      <th>ID</th>\n",
       "      <th>MFUNC_DESC_CLASS</th>\n",
       "      <th>NUMWEAPONSJETTISONED</th>\n",
       "      <th>NUMWEAPONSRETURNED</th>\n",
       "      <th>RELEASEALTITUDE</th>\n",
       "      <th>RELEASEFLTSPEED</th>\n",
       "      <th>RESULTSBDA</th>\n",
       "      <th>TIMEOFFTARGET</th>\n",
       "      <th>WEAPONSLOADEDWEIGHT</th>\n",
       "      <th>type</th>\n",
       "    </tr>\n",
       "    <tr>\n",
       "      <th>THOR_DATA_VIET_ID</th>\n",
       "      <th></th>\n",
       "      <th></th>\n",
       "      <th></th>\n",
       "      <th></th>\n",
       "      <th></th>\n",
       "      <th></th>\n",
       "      <th></th>\n",
       "      <th></th>\n",
       "      <th></th>\n",
       "      <th></th>\n",
       "      <th></th>\n",
       "      <th></th>\n",
       "      <th></th>\n",
       "      <th></th>\n",
       "      <th></th>\n",
       "      <th></th>\n",
       "      <th></th>\n",
       "      <th></th>\n",
       "      <th></th>\n",
       "      <th></th>\n",
       "      <th></th>\n",
       "    </tr>\n",
       "  </thead>\n",
       "  <tbody>\n",
       "    <tr>\n",
       "      <th>5722</th>\n",
       "      <td>USAF</td>\n",
       "      <td>F-4</td>\n",
       "      <td>UBON AB</td>\n",
       "      <td>16.331666</td>\n",
       "      <td>106.479444</td>\n",
       "      <td>2</td>\n",
       "      <td>610.0</td>\n",
       "      <td>0</td>\n",
       "      <td>C</td>\n",
       "      <td>433TFS</td>\n",
       "      <td>...</td>\n",
       "      <td>27183249</td>\n",
       "      <td>NONKINETIC</td>\n",
       "      <td>-1</td>\n",
       "      <td>-1</td>\n",
       "      <td>15.0</td>\n",
       "      <td>55.0</td>\n",
       "      <td>RNO-DLY BM/FU</td>\n",
       "      <td>610.0</td>\n",
       "      <td>0</td>\n",
       "      <td>0</td>\n",
       "    </tr>\n",
       "    <tr>\n",
       "      <th>8509</th>\n",
       "      <td>USAF</td>\n",
       "      <td>B-52</td>\n",
       "      <td>ANDERSEN</td>\n",
       "      <td>20.781388</td>\n",
       "      <td>105.864722</td>\n",
       "      <td>28</td>\n",
       "      <td>2046.0</td>\n",
       "      <td>500</td>\n",
       "      <td>NaN</td>\n",
       "      <td>4133SW</td>\n",
       "      <td>...</td>\n",
       "      <td>27611535</td>\n",
       "      <td>NONKINETIC</td>\n",
       "      <td>-1</td>\n",
       "      <td>-1</td>\n",
       "      <td>0.0</td>\n",
       "      <td>NaN</td>\n",
       "      <td>RNO WEATHER</td>\n",
       "      <td>2046.0</td>\n",
       "      <td>148680</td>\n",
       "      <td>0</td>\n",
       "    </tr>\n",
       "    <tr>\n",
       "      <th>13041</th>\n",
       "      <td>USAF</td>\n",
       "      <td>A-37</td>\n",
       "      <td>BIEN HOA</td>\n",
       "      <td>11.655833</td>\n",
       "      <td>106.604722</td>\n",
       "      <td>2</td>\n",
       "      <td>1000.0</td>\n",
       "      <td>211</td>\n",
       "      <td>2</td>\n",
       "      <td>8SOS</td>\n",
       "      <td>...</td>\n",
       "      <td>27680052</td>\n",
       "      <td>KINETIC</td>\n",
       "      <td>-1</td>\n",
       "      <td>-1</td>\n",
       "      <td>0.0</td>\n",
       "      <td>30.0</td>\n",
       "      <td>DESTROYED</td>\n",
       "      <td>1000.0</td>\n",
       "      <td>5280</td>\n",
       "      <td>0</td>\n",
       "    </tr>\n",
       "    <tr>\n",
       "      <th>20616</th>\n",
       "      <td>USAF</td>\n",
       "      <td>B-52</td>\n",
       "      <td>U TAPAO</td>\n",
       "      <td>21.161111</td>\n",
       "      <td>105.828333</td>\n",
       "      <td>28</td>\n",
       "      <td>1544.0</td>\n",
       "      <td>500</td>\n",
       "      <td>P</td>\n",
       "      <td>307SW</td>\n",
       "      <td>...</td>\n",
       "      <td>27726590</td>\n",
       "      <td>NONKINETIC</td>\n",
       "      <td>-1</td>\n",
       "      <td>-1</td>\n",
       "      <td>0.0</td>\n",
       "      <td>NaN</td>\n",
       "      <td>RNO WEATHER</td>\n",
       "      <td>1544.0</td>\n",
       "      <td>148680</td>\n",
       "      <td>0</td>\n",
       "    </tr>\n",
       "    <tr>\n",
       "      <th>58000</th>\n",
       "      <td>USAF</td>\n",
       "      <td>A-1</td>\n",
       "      <td>NAKHON PHANOM</td>\n",
       "      <td>15.423055</td>\n",
       "      <td>107.017777</td>\n",
       "      <td>2</td>\n",
       "      <td>300.0</td>\n",
       "      <td>100</td>\n",
       "      <td>M</td>\n",
       "      <td>1SOS</td>\n",
       "      <td>...</td>\n",
       "      <td>27926285</td>\n",
       "      <td>KINETIC</td>\n",
       "      <td>-1</td>\n",
       "      <td>-1</td>\n",
       "      <td>5.0</td>\n",
       "      <td>20.0</td>\n",
       "      <td>NaN</td>\n",
       "      <td>300.0</td>\n",
       "      <td>1400</td>\n",
       "      <td>0</td>\n",
       "    </tr>\n",
       "  </tbody>\n",
       "</table>\n",
       "<p>5 rows × 29 columns</p>\n",
       "</div>"
      ],
      "text/plain": [
       "                  MILSERVICE VALID_AIRCRAFT_ROOT TAKEOFFLOCATION  \\\n",
       "THOR_DATA_VIET_ID                                                  \n",
       "5722                    USAF                 F-4         UBON AB   \n",
       "8509                    USAF                B-52        ANDERSEN   \n",
       "13041                   USAF                A-37        BIEN HOA   \n",
       "20616                   USAF                B-52         U TAPAO   \n",
       "58000                   USAF                 A-1   NAKHON PHANOM   \n",
       "\n",
       "                   TGTLATDD_DDD_WGS84  TGTLONDDD_DDD_WGS84  \\\n",
       "THOR_DATA_VIET_ID                                            \n",
       "5722                        16.331666           106.479444   \n",
       "8509                        20.781388           105.864722   \n",
       "13041                       11.655833           106.604722   \n",
       "20616                       21.161111           105.828333   \n",
       "58000                       15.423055           107.017777   \n",
       "\n",
       "                   NUMWEAPONSDELIVERED  TIMEONTARGET  WEAPONTYPEWEIGHT  \\\n",
       "THOR_DATA_VIET_ID                                                        \n",
       "5722                                 2         610.0                 0   \n",
       "8509                                28        2046.0               500   \n",
       "13041                                2        1000.0               211   \n",
       "20616                               28        1544.0               500   \n",
       "58000                                2         300.0               100   \n",
       "\n",
       "                  AIRFORCEGROUP AIRFORCESQDN  ...        ID MFUNC_DESC_CLASS  \\\n",
       "THOR_DATA_VIET_ID                             ...                              \n",
       "5722                          C       433TFS  ...  27183249       NONKINETIC   \n",
       "8509                        NaN       4133SW  ...  27611535       NONKINETIC   \n",
       "13041                         2         8SOS  ...  27680052          KINETIC   \n",
       "20616                         P        307SW  ...  27726590       NONKINETIC   \n",
       "58000                         M         1SOS  ...  27926285          KINETIC   \n",
       "\n",
       "                  NUMWEAPONSJETTISONED  NUMWEAPONSRETURNED RELEASEALTITUDE  \\\n",
       "THOR_DATA_VIET_ID                                                            \n",
       "5722                                -1                  -1            15.0   \n",
       "8509                                -1                  -1             0.0   \n",
       "13041                               -1                  -1             0.0   \n",
       "20616                               -1                  -1             0.0   \n",
       "58000                               -1                  -1             5.0   \n",
       "\n",
       "                  RELEASEFLTSPEED     RESULTSBDA TIMEOFFTARGET  \\\n",
       "THOR_DATA_VIET_ID                                                \n",
       "5722                         55.0  RNO-DLY BM/FU         610.0   \n",
       "8509                          NaN    RNO WEATHER        2046.0   \n",
       "13041                        30.0      DESTROYED        1000.0   \n",
       "20616                         NaN    RNO WEATHER        1544.0   \n",
       "58000                        20.0            NaN         300.0   \n",
       "\n",
       "                  WEAPONSLOADEDWEIGHT  type  \n",
       "THOR_DATA_VIET_ID                            \n",
       "5722                                0     0  \n",
       "8509                           148680     0  \n",
       "13041                            5280     0  \n",
       "20616                          148680     0  \n",
       "58000                            1400     0  \n",
       "\n",
       "[5 rows x 29 columns]"
      ]
     },
     "execution_count": 17,
     "metadata": {},
     "output_type": "execute_result"
    }
   ],
   "source": [
    "dropped = ['COUNTRYFLYINGMISSION', 'SOURCEID', 'SOURCERECORD', 'MSNDATE', 'AIRCRAFT_ORIGINAL', \n",
    "           'AIRCRAFT_ROOT', 'WEAPONTYPECLASS', 'WEAPONTYPE', 'UNIT', 'TGTID', 'TGTWEATHER', 'ADDITIONALINFO', 'TGTORIGCOORDSFORMAT', \n",
    "           'TGTWEATHER', 'GEOZONE', 'CALLSIGN', 'TGTTYPE', 'MFUNC_DESC', 'OPERATIONSUPPORTED']\n",
    "bomb_ml_real = bombing_ml.drop(labels = dropped, axis = 1)\n",
    "bomb_ml_real.set_index('THOR_DATA_VIET_ID', inplace = True)\n",
    "bomb_ml_real.dropna(inplace = True, thresh = 24) # To make sure we can actually create dummies, otherwise classifiers won't work\n",
    "print(bomb_ml_real.shape)\n",
    "bomb_ml_real.head()"
   ]
  },
  {
   "cell_type": "code",
   "execution_count": 87,
   "metadata": {},
   "outputs": [
    {
     "ename": "MemoryError",
     "evalue": "",
     "output_type": "error",
     "traceback": [
      "\u001b[1;31m---------------------------------------------------------------------------\u001b[0m",
      "\u001b[1;31mMemoryError\u001b[0m                               Traceback (most recent call last)",
      "\u001b[1;32m<ipython-input-87-4d4488b1f941>\u001b[0m in \u001b[0;36m<module>\u001b[1;34m\u001b[0m\n\u001b[1;32m----> 1\u001b[1;33m \u001b[0mbombing_final\u001b[0m \u001b[1;33m=\u001b[0m \u001b[0mpd\u001b[0m\u001b[1;33m.\u001b[0m\u001b[0mget_dummies\u001b[0m\u001b[1;33m(\u001b[0m\u001b[0mbomb_ml_real\u001b[0m\u001b[1;33m,\u001b[0m \u001b[0mdrop_first\u001b[0m \u001b[1;33m=\u001b[0m \u001b[1;32mTrue\u001b[0m\u001b[1;33m)\u001b[0m\u001b[1;33m\u001b[0m\u001b[1;33m\u001b[0m\u001b[0m\n\u001b[0m\u001b[0;32m      2\u001b[0m \u001b[0mbombing_train\u001b[0m\u001b[1;33m,\u001b[0m \u001b[0mbombing_test\u001b[0m \u001b[1;33m=\u001b[0m \u001b[0mtrain_test_split\u001b[0m\u001b[1;33m(\u001b[0m\u001b[0mbomb_ml_real\u001b[0m\u001b[1;33m,\u001b[0m \u001b[0mtest_size\u001b[0m \u001b[1;33m=\u001b[0m \u001b[1;36m0.3\u001b[0m\u001b[1;33m)\u001b[0m\u001b[1;33m\u001b[0m\u001b[1;33m\u001b[0m\u001b[0m\n\u001b[0;32m      3\u001b[0m \u001b[0mbombing_score\u001b[0m \u001b[1;33m=\u001b[0m \u001b[0mbombing_test\u001b[0m\u001b[1;33m.\u001b[0m\u001b[0mcopy\u001b[0m\u001b[1;33m(\u001b[0m\u001b[1;33m)\u001b[0m \u001b[1;31m# For score assessment\u001b[0m\u001b[1;33m\u001b[0m\u001b[1;33m\u001b[0m\u001b[0m\n",
      "\u001b[1;32m~\\Anaconda3\\lib\\site-packages\\pandas\\core\\reshape\\reshape.py\u001b[0m in \u001b[0;36mget_dummies\u001b[1;34m(data, prefix, prefix_sep, dummy_na, columns, sparse, drop_first, dtype)\u001b[0m\n\u001b[0;32m    857\u001b[0m             dummy = _get_dummies_1d(col[1], prefix=pre, prefix_sep=sep,\n\u001b[0;32m    858\u001b[0m                                     \u001b[0mdummy_na\u001b[0m\u001b[1;33m=\u001b[0m\u001b[0mdummy_na\u001b[0m\u001b[1;33m,\u001b[0m \u001b[0msparse\u001b[0m\u001b[1;33m=\u001b[0m\u001b[0msparse\u001b[0m\u001b[1;33m,\u001b[0m\u001b[1;33m\u001b[0m\u001b[1;33m\u001b[0m\u001b[0m\n\u001b[1;32m--> 859\u001b[1;33m                                     drop_first=drop_first, dtype=dtype)\n\u001b[0m\u001b[0;32m    860\u001b[0m             \u001b[0mwith_dummies\u001b[0m\u001b[1;33m.\u001b[0m\u001b[0mappend\u001b[0m\u001b[1;33m(\u001b[0m\u001b[0mdummy\u001b[0m\u001b[1;33m)\u001b[0m\u001b[1;33m\u001b[0m\u001b[1;33m\u001b[0m\u001b[0m\n\u001b[0;32m    861\u001b[0m         \u001b[0mresult\u001b[0m \u001b[1;33m=\u001b[0m \u001b[0mconcat\u001b[0m\u001b[1;33m(\u001b[0m\u001b[0mwith_dummies\u001b[0m\u001b[1;33m,\u001b[0m \u001b[0maxis\u001b[0m\u001b[1;33m=\u001b[0m\u001b[1;36m1\u001b[0m\u001b[1;33m)\u001b[0m\u001b[1;33m\u001b[0m\u001b[1;33m\u001b[0m\u001b[0m\n",
      "\u001b[1;32m~\\Anaconda3\\lib\\site-packages\\pandas\\core\\reshape\\reshape.py\u001b[0m in \u001b[0;36m_get_dummies_1d\u001b[1;34m(data, prefix, prefix_sep, dummy_na, sparse, drop_first, dtype)\u001b[0m\n\u001b[0;32m    961\u001b[0m \u001b[1;33m\u001b[0m\u001b[0m\n\u001b[0;32m    962\u001b[0m     \u001b[1;32melse\u001b[0m\u001b[1;33m:\u001b[0m\u001b[1;33m\u001b[0m\u001b[1;33m\u001b[0m\u001b[0m\n\u001b[1;32m--> 963\u001b[1;33m         \u001b[0mdummy_mat\u001b[0m \u001b[1;33m=\u001b[0m \u001b[0mnp\u001b[0m\u001b[1;33m.\u001b[0m\u001b[0meye\u001b[0m\u001b[1;33m(\u001b[0m\u001b[0mnumber_of_cols\u001b[0m\u001b[1;33m,\u001b[0m \u001b[0mdtype\u001b[0m\u001b[1;33m=\u001b[0m\u001b[0mdtype\u001b[0m\u001b[1;33m)\u001b[0m\u001b[1;33m.\u001b[0m\u001b[0mtake\u001b[0m\u001b[1;33m(\u001b[0m\u001b[0mcodes\u001b[0m\u001b[1;33m,\u001b[0m \u001b[0maxis\u001b[0m\u001b[1;33m=\u001b[0m\u001b[1;36m0\u001b[0m\u001b[1;33m)\u001b[0m\u001b[1;33m\u001b[0m\u001b[1;33m\u001b[0m\u001b[0m\n\u001b[0m\u001b[0;32m    964\u001b[0m \u001b[1;33m\u001b[0m\u001b[0m\n\u001b[0;32m    965\u001b[0m         \u001b[1;32mif\u001b[0m \u001b[1;32mnot\u001b[0m \u001b[0mdummy_na\u001b[0m\u001b[1;33m:\u001b[0m\u001b[1;33m\u001b[0m\u001b[1;33m\u001b[0m\u001b[0m\n",
      "\u001b[1;31mMemoryError\u001b[0m: "
     ]
    }
   ],
   "source": [
    "bombing_final = pd.get_dummies(bomb_ml_real, drop_first = True)\n",
    "bombing_train, bombing_test = train_test_split(bomb_ml_real, test_size = 0.3)\n",
    "bombing_score = bombing_test.copy() # For score assessment"
   ]
  },
  {
   "cell_type": "code",
   "execution_count": 43,
   "metadata": {},
   "outputs": [
    {
     "ename": "ValueError",
     "evalue": "could not convert string to float: 'USMC'",
     "output_type": "error",
     "traceback": [
      "\u001b[1;31m---------------------------------------------------------------------------\u001b[0m",
      "\u001b[1;31mValueError\u001b[0m                                Traceback (most recent call last)",
      "\u001b[1;32m<ipython-input-43-cb88eae333c8>\u001b[0m in \u001b[0;36m<module>\u001b[1;34m\u001b[0m\n\u001b[0;32m      1\u001b[0m \u001b[0mdf_rf\u001b[0m \u001b[1;33m=\u001b[0m \u001b[0mskens\u001b[0m\u001b[1;33m.\u001b[0m\u001b[0mRandomForestClassifier\u001b[0m\u001b[1;33m(\u001b[0m\u001b[0mn_estimators\u001b[0m \u001b[1;33m=\u001b[0m \u001b[1;36m10\u001b[0m\u001b[1;33m,\u001b[0m \u001b[0moob_score\u001b[0m \u001b[1;33m=\u001b[0m \u001b[1;32mTrue\u001b[0m\u001b[1;33m,\u001b[0m \u001b[0mcriterion\u001b[0m \u001b[1;33m=\u001b[0m \u001b[1;34m'entropy'\u001b[0m\u001b[1;33m,\u001b[0m \u001b[0mrandom_state\u001b[0m \u001b[1;33m=\u001b[0m \u001b[1;36m42\u001b[0m\u001b[1;33m)\u001b[0m\u001b[1;33m\u001b[0m\u001b[1;33m\u001b[0m\u001b[0m\n\u001b[1;32m----> 2\u001b[1;33m \u001b[0mdf_rf\u001b[0m\u001b[1;33m.\u001b[0m\u001b[0mfit\u001b[0m\u001b[1;33m(\u001b[0m\u001b[0mbombing_train\u001b[0m\u001b[1;33m.\u001b[0m\u001b[0miloc\u001b[0m\u001b[1;33m[\u001b[0m\u001b[1;33m:\u001b[0m\u001b[1;33m,\u001b[0m\u001b[0mbombing_train\u001b[0m\u001b[1;33m.\u001b[0m\u001b[0mcolumns\u001b[0m \u001b[1;33m!=\u001b[0m \u001b[1;34m'type'\u001b[0m\u001b[1;33m]\u001b[0m\u001b[1;33m,\u001b[0m \u001b[0mbombing_train\u001b[0m\u001b[1;33m.\u001b[0m\u001b[0mtype\u001b[0m\u001b[1;33m)\u001b[0m\u001b[1;33m\u001b[0m\u001b[1;33m\u001b[0m\u001b[0m\n\u001b[0m",
      "\u001b[1;32m~\\Anaconda3\\lib\\site-packages\\sklearn\\ensemble\\forest.py\u001b[0m in \u001b[0;36mfit\u001b[1;34m(self, X, y, sample_weight)\u001b[0m\n\u001b[0;32m    248\u001b[0m \u001b[1;33m\u001b[0m\u001b[0m\n\u001b[0;32m    249\u001b[0m         \u001b[1;31m# Validate or convert input data\u001b[0m\u001b[1;33m\u001b[0m\u001b[1;33m\u001b[0m\u001b[1;33m\u001b[0m\u001b[0m\n\u001b[1;32m--> 250\u001b[1;33m         \u001b[0mX\u001b[0m \u001b[1;33m=\u001b[0m \u001b[0mcheck_array\u001b[0m\u001b[1;33m(\u001b[0m\u001b[0mX\u001b[0m\u001b[1;33m,\u001b[0m \u001b[0maccept_sparse\u001b[0m\u001b[1;33m=\u001b[0m\u001b[1;34m\"csc\"\u001b[0m\u001b[1;33m,\u001b[0m \u001b[0mdtype\u001b[0m\u001b[1;33m=\u001b[0m\u001b[0mDTYPE\u001b[0m\u001b[1;33m)\u001b[0m\u001b[1;33m\u001b[0m\u001b[1;33m\u001b[0m\u001b[0m\n\u001b[0m\u001b[0;32m    251\u001b[0m         \u001b[0my\u001b[0m \u001b[1;33m=\u001b[0m \u001b[0mcheck_array\u001b[0m\u001b[1;33m(\u001b[0m\u001b[0my\u001b[0m\u001b[1;33m,\u001b[0m \u001b[0maccept_sparse\u001b[0m\u001b[1;33m=\u001b[0m\u001b[1;34m'csc'\u001b[0m\u001b[1;33m,\u001b[0m \u001b[0mensure_2d\u001b[0m\u001b[1;33m=\u001b[0m\u001b[1;32mFalse\u001b[0m\u001b[1;33m,\u001b[0m \u001b[0mdtype\u001b[0m\u001b[1;33m=\u001b[0m\u001b[1;32mNone\u001b[0m\u001b[1;33m)\u001b[0m\u001b[1;33m\u001b[0m\u001b[1;33m\u001b[0m\u001b[0m\n\u001b[0;32m    252\u001b[0m         \u001b[1;32mif\u001b[0m \u001b[0msample_weight\u001b[0m \u001b[1;32mis\u001b[0m \u001b[1;32mnot\u001b[0m \u001b[1;32mNone\u001b[0m\u001b[1;33m:\u001b[0m\u001b[1;33m\u001b[0m\u001b[1;33m\u001b[0m\u001b[0m\n",
      "\u001b[1;32m~\\Anaconda3\\lib\\site-packages\\sklearn\\utils\\validation.py\u001b[0m in \u001b[0;36mcheck_array\u001b[1;34m(array, accept_sparse, accept_large_sparse, dtype, order, copy, force_all_finite, ensure_2d, allow_nd, ensure_min_samples, ensure_min_features, warn_on_dtype, estimator)\u001b[0m\n\u001b[0;32m    525\u001b[0m             \u001b[1;32mtry\u001b[0m\u001b[1;33m:\u001b[0m\u001b[1;33m\u001b[0m\u001b[1;33m\u001b[0m\u001b[0m\n\u001b[0;32m    526\u001b[0m                 \u001b[0mwarnings\u001b[0m\u001b[1;33m.\u001b[0m\u001b[0msimplefilter\u001b[0m\u001b[1;33m(\u001b[0m\u001b[1;34m'error'\u001b[0m\u001b[1;33m,\u001b[0m \u001b[0mComplexWarning\u001b[0m\u001b[1;33m)\u001b[0m\u001b[1;33m\u001b[0m\u001b[1;33m\u001b[0m\u001b[0m\n\u001b[1;32m--> 527\u001b[1;33m                 \u001b[0marray\u001b[0m \u001b[1;33m=\u001b[0m \u001b[0mnp\u001b[0m\u001b[1;33m.\u001b[0m\u001b[0masarray\u001b[0m\u001b[1;33m(\u001b[0m\u001b[0marray\u001b[0m\u001b[1;33m,\u001b[0m \u001b[0mdtype\u001b[0m\u001b[1;33m=\u001b[0m\u001b[0mdtype\u001b[0m\u001b[1;33m,\u001b[0m \u001b[0morder\u001b[0m\u001b[1;33m=\u001b[0m\u001b[0morder\u001b[0m\u001b[1;33m)\u001b[0m\u001b[1;33m\u001b[0m\u001b[1;33m\u001b[0m\u001b[0m\n\u001b[0m\u001b[0;32m    528\u001b[0m             \u001b[1;32mexcept\u001b[0m \u001b[0mComplexWarning\u001b[0m\u001b[1;33m:\u001b[0m\u001b[1;33m\u001b[0m\u001b[1;33m\u001b[0m\u001b[0m\n\u001b[0;32m    529\u001b[0m                 raise ValueError(\"Complex data not supported\\n\"\n",
      "\u001b[1;32m~\\Anaconda3\\lib\\site-packages\\numpy\\core\\numeric.py\u001b[0m in \u001b[0;36masarray\u001b[1;34m(a, dtype, order)\u001b[0m\n\u001b[0;32m    536\u001b[0m \u001b[1;33m\u001b[0m\u001b[0m\n\u001b[0;32m    537\u001b[0m     \"\"\"\n\u001b[1;32m--> 538\u001b[1;33m     \u001b[1;32mreturn\u001b[0m \u001b[0marray\u001b[0m\u001b[1;33m(\u001b[0m\u001b[0ma\u001b[0m\u001b[1;33m,\u001b[0m \u001b[0mdtype\u001b[0m\u001b[1;33m,\u001b[0m \u001b[0mcopy\u001b[0m\u001b[1;33m=\u001b[0m\u001b[1;32mFalse\u001b[0m\u001b[1;33m,\u001b[0m \u001b[0morder\u001b[0m\u001b[1;33m=\u001b[0m\u001b[0morder\u001b[0m\u001b[1;33m)\u001b[0m\u001b[1;33m\u001b[0m\u001b[1;33m\u001b[0m\u001b[0m\n\u001b[0m\u001b[0;32m    539\u001b[0m \u001b[1;33m\u001b[0m\u001b[0m\n\u001b[0;32m    540\u001b[0m \u001b[1;33m\u001b[0m\u001b[0m\n",
      "\u001b[1;31mValueError\u001b[0m: could not convert string to float: 'USMC'"
     ]
    }
   ],
   "source": [
    "df_rf = skens.RandomForestClassifier(n_estimators = 10, oob_score = True, criterion = 'entropy', random_state = 42)\n",
    "df_rf.fit(bombing_train.iloc[:,bombing_train.columns != 'type'], bombing_train.type)"
   ]
  },
  {
   "cell_type": "markdown",
   "metadata": {},
   "source": [
    "### How did bombing missions shift over time?"
   ]
  },
  {
   "cell_type": "code",
   "execution_count": 43,
   "metadata": {},
   "outputs": [],
   "source": [
    "from datetime import timedelta\n",
    "import os\n",
    "import sys\n",
    "\n",
    "import cartopy.crs as ccrs"
   ]
  },
  {
   "cell_type": "code",
   "execution_count": 44,
   "metadata": {},
   "outputs": [
    {
     "name": "stdout",
     "output_type": "stream",
     "text": [
      "['.ipynb_checkpoints', 'BM.png', 'bm_low.jpg', 'images.json']\n"
     ]
    }
   ],
   "source": [
    "cartopy_backgrounds = os.path.curdir + '/cartopy_backgrounds'\n",
    "print(os.listdir(cartopy_backgrounds))"
   ]
  },
  {
   "cell_type": "code",
   "execution_count": 45,
   "metadata": {},
   "outputs": [
    {
     "ename": "FileNotFoundError",
     "evalue": "[Errno 2] No such file or directory: './cartopy_backgrounds\\\\50-natural-earth-1-downsampled.png'",
     "output_type": "error",
     "traceback": [
      "\u001b[1;31m---------------------------------------------------------------------------\u001b[0m",
      "\u001b[1;31mFileNotFoundError\u001b[0m                         Traceback (most recent call last)",
      "\u001b[1;32m<ipython-input-45-f40de1d02109>\u001b[0m in \u001b[0;36m<module>\u001b[1;34m\u001b[0m\n\u001b[0;32m      2\u001b[0m \u001b[1;33m\u001b[0m\u001b[0m\n\u001b[0;32m      3\u001b[0m \u001b[0max\u001b[0m \u001b[1;33m=\u001b[0m \u001b[0mplt\u001b[0m\u001b[1;33m.\u001b[0m\u001b[0maxes\u001b[0m\u001b[1;33m(\u001b[0m\u001b[0mprojection\u001b[0m \u001b[1;33m=\u001b[0m \u001b[0mccrs\u001b[0m\u001b[1;33m.\u001b[0m\u001b[0mMercator\u001b[0m\u001b[1;33m(\u001b[0m\u001b[1;33m)\u001b[0m\u001b[1;33m)\u001b[0m\u001b[1;33m\u001b[0m\u001b[1;33m\u001b[0m\u001b[0m\n\u001b[1;32m----> 4\u001b[1;33m \u001b[0max\u001b[0m\u001b[1;33m.\u001b[0m\u001b[0mbackground_img\u001b[0m\u001b[1;33m(\u001b[0m\u001b[1;33m)\u001b[0m\u001b[1;33m\u001b[0m\u001b[1;33m\u001b[0m\u001b[0m\n\u001b[0m\u001b[0;32m      5\u001b[0m \u001b[0max\u001b[0m\u001b[1;33m.\u001b[0m\u001b[0mset_extent\u001b[0m\u001b[1;33m(\u001b[0m\u001b[1;33m[\u001b[0m\u001b[1;36m90\u001b[0m\u001b[1;33m,\u001b[0m \u001b[1;36m120\u001b[0m\u001b[1;33m,\u001b[0m \u001b[1;33m-\u001b[0m\u001b[1;36m20\u001b[0m\u001b[1;33m,\u001b[0m \u001b[1;36m40\u001b[0m\u001b[1;33m]\u001b[0m\u001b[1;33m,\u001b[0m \u001b[0mcrs\u001b[0m \u001b[1;33m=\u001b[0m \u001b[0mccrs\u001b[0m\u001b[1;33m.\u001b[0m\u001b[0mPlateCarree\u001b[0m\u001b[1;33m(\u001b[0m\u001b[1;33m)\u001b[0m\u001b[1;33m)\u001b[0m\u001b[1;33m\u001b[0m\u001b[1;33m\u001b[0m\u001b[0m\n",
      "\u001b[1;32m~\\Anaconda3\\lib\\site-packages\\cartopy\\mpl\\geoaxes.py\u001b[0m in \u001b[0;36mbackground_img\u001b[1;34m(self, name, resolution, extent, cache)\u001b[0m\n\u001b[0;32m    913\u001b[0m                 \u001b[0m_BACKG_IMG_CACHE\u001b[0m\u001b[1;33m[\u001b[0m\u001b[0mfname\u001b[0m\u001b[1;33m]\u001b[0m \u001b[1;33m=\u001b[0m \u001b[0mimg\u001b[0m\u001b[1;33m\u001b[0m\u001b[1;33m\u001b[0m\u001b[0m\n\u001b[0;32m    914\u001b[0m         \u001b[1;32melse\u001b[0m\u001b[1;33m:\u001b[0m\u001b[1;33m\u001b[0m\u001b[1;33m\u001b[0m\u001b[0m\n\u001b[1;32m--> 915\u001b[1;33m             \u001b[0mimg\u001b[0m \u001b[1;33m=\u001b[0m \u001b[0mimread\u001b[0m\u001b[1;33m(\u001b[0m\u001b[0mfpath\u001b[0m\u001b[1;33m)\u001b[0m\u001b[1;33m\u001b[0m\u001b[1;33m\u001b[0m\u001b[0m\n\u001b[0m\u001b[0;32m    916\u001b[0m         \u001b[1;32mif\u001b[0m \u001b[0mlen\u001b[0m\u001b[1;33m(\u001b[0m\u001b[0mimg\u001b[0m\u001b[1;33m.\u001b[0m\u001b[0mshape\u001b[0m\u001b[1;33m)\u001b[0m \u001b[1;33m==\u001b[0m \u001b[1;36m2\u001b[0m\u001b[1;33m:\u001b[0m\u001b[1;33m\u001b[0m\u001b[1;33m\u001b[0m\u001b[0m\n\u001b[0;32m    917\u001b[0m             \u001b[1;31m# greyscale images are only 2-dimensional, so need replicating\u001b[0m\u001b[1;33m\u001b[0m\u001b[1;33m\u001b[0m\u001b[1;33m\u001b[0m\u001b[0m\n",
      "\u001b[1;32m~\\Anaconda3\\lib\\site-packages\\matplotlib\\image.py\u001b[0m in \u001b[0;36mimread\u001b[1;34m(fname, format)\u001b[0m\n\u001b[0;32m   1372\u001b[0m             \u001b[1;32mreturn\u001b[0m \u001b[0mhandler\u001b[0m\u001b[1;33m(\u001b[0m\u001b[0mfd\u001b[0m\u001b[1;33m)\u001b[0m\u001b[1;33m\u001b[0m\u001b[1;33m\u001b[0m\u001b[0m\n\u001b[0;32m   1373\u001b[0m         \u001b[1;32melse\u001b[0m\u001b[1;33m:\u001b[0m\u001b[1;33m\u001b[0m\u001b[1;33m\u001b[0m\u001b[0m\n\u001b[1;32m-> 1374\u001b[1;33m             \u001b[1;32mwith\u001b[0m \u001b[0mopen\u001b[0m\u001b[1;33m(\u001b[0m\u001b[0mfname\u001b[0m\u001b[1;33m,\u001b[0m \u001b[1;34m'rb'\u001b[0m\u001b[1;33m)\u001b[0m \u001b[1;32mas\u001b[0m \u001b[0mfd\u001b[0m\u001b[1;33m:\u001b[0m\u001b[1;33m\u001b[0m\u001b[1;33m\u001b[0m\u001b[0m\n\u001b[0m\u001b[0;32m   1375\u001b[0m                 \u001b[1;32mreturn\u001b[0m \u001b[0mhandler\u001b[0m\u001b[1;33m(\u001b[0m\u001b[0mfd\u001b[0m\u001b[1;33m)\u001b[0m\u001b[1;33m\u001b[0m\u001b[1;33m\u001b[0m\u001b[0m\n\u001b[0;32m   1376\u001b[0m     \u001b[1;32melse\u001b[0m\u001b[1;33m:\u001b[0m\u001b[1;33m\u001b[0m\u001b[1;33m\u001b[0m\u001b[0m\n",
      "\u001b[1;31mFileNotFoundError\u001b[0m: [Errno 2] No such file or directory: './cartopy_backgrounds\\\\50-natural-earth-1-downsampled.png'"
     ]
    },
    {
     "data": {
      "image/png": "[encoded data removed]",
      "text/plain": [
       "<Figure size 1382.4x777.6 with 1 Axes>"
      ]
     },
     "metadata": {
      "needs_background": "light"
     },
     "output_type": "display_data"
    }
   ],
   "source": [
    "fig = plt.figure(figsize = (19.2, 10.8))\n",
    "\n",
    "ax = plt.axes(projection = ccrs.Mercator())\n",
    "ax.background_img()\n",
    "ax.set_extent([90, 120, -20, 40], crs = ccrs.PlateCarree())"
   ]
  },
  {
   "cell_type": "code",
   "execution_count": null,
   "metadata": {},
   "outputs": [],
   "source": []
  }
 ],
 "metadata": {
  "kernelspec": {
   "display_name": "Python 3",
   "language": "python",
   "name": "python3"
  },
  "language_info": {
   "codemirror_mode": {
    "name": "ipython",
    "version": 3
   },
   "file_extension": ".py",
   "mimetype": "text/x-python",
   "name": "python",
   "nbconvert_exporter": "python",
   "pygments_lexer": "ipython3",
   "version": "3.7.1"
  }
 },
 "nbformat": 4,
 "nbformat_minor": 2
}
