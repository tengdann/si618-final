{
 "cells": [
  {
   "cell_type": "markdown",
   "metadata": {},
   "source": [
    "# Bombing Operations during the Vietnam War"
   ]
  },
  {
   "cell_type": "markdown",
   "metadata": {},
   "source": [
    "## Introduction\n",
    "### History\n",
    "The Vietnam War was one of the costliest and most divisive conflicts the US has been involved in, to date. While no formal declaration of war was issued, American advisors had been involved in the Indochina region since the French occupation post-World War II. Formal US involvement began in earnest in 1964, after the [Gulf of Tonkin incident](https://en.wikipedia.org/wiki/Gulf_of_Tonkin_incident).  \n",
    "\n",
    "The US and its allies relied heavily on air superiority to carry out offensive operations. The US also conducted large-scale strategic bombing campaigns in North Vietnam, some of the largest since the end of the Second World War. In the end, however, US involvement was not enough to prop up the South Vietnamese government and armed forces. As a result of the [Tet Offensive](https://en.wikipedia.org/wiki/Tet_Offensive), which showed the clear inabilitiy of the [ARVN](https://en.wikipedia.org/wiki/Army_of_the_Republic_of_Vietnam) to resist [NVA](https://en.wikipedia.org/wiki/People%27s_Army_of_Vietnam) forces, the US began to implement [\"Vietnamization\"](https://en.wikipedia.org/wiki/Vietnamization). Two years after the withdraw of US forces in August 1973, Saigon fell to the NVA, and North and South Vietnam were reunited the following year (1976).  \n",
    "\n",
    "### U.S. Air Force Doctrine\n",
    "USAF doctrine during this period focused heavily on close-air support and massive strategic bombing campaigns. Because of the notoriously thick jungle environment of Vietnam, close-air support aircraft began carrying napalm. As well, missions using Agent Orange were flown to defoliate the jungle, to try and increase the effectiveness of air support assets.  \n",
    "\n",
    "Strategic bombing was a mainstay of the USAF bomber doctrine, ever since the end of the Second World War. However, because of fears of drawing China into the conflict, targets were heavily limited by the Johnson and Nixon administrations. As a result, the effectiveness of these strategic bombing campaigns were limited. When they were effectively employed, heavy bombers, such as the B-52, mainly targetted large factory complexes, in an attempt to degrade the North Vietnamese supply line and warfighting capabilities.  \n",
    "\n",
    "Because of the general inaccuracy of carpet bombing, and the increased visibility of civilian casualties, more precise weapon systems were developed. These would heavily influence Air Force doctrine for the years to come."
   ]
  },
  {
   "cell_type": "markdown",
   "metadata": {},
   "source": [
    "![](b52_linebacker.jpg)"
   ]
  },
  {
   "cell_type": "markdown",
   "metadata": {},
   "source": [
    "## Loading the Data"
   ]
  },
  {
   "cell_type": "code",
   "execution_count": 12,
   "metadata": {},
   "outputs": [],
   "source": [
    "import zipfile\n",
    "import time\n",
    "import warnings\n",
    "import numpy as np\n",
    "import pandas as pd\n",
    "import seaborn as sns\n",
    "import matplotlib.pyplot as plt\n",
    "from datetime import datetime\n",
    "\n",
    "warnings.filterwarnings('ignore')\n",
    "%matplotlib inline"
   ]
  },
  {
   "cell_type": "code",
   "execution_count": 13,
   "metadata": {},
   "outputs": [
    {
     "name": "stdout",
     "output_type": "stream",
     "text": [
      "3 files loaded in 67.55747056007385 seconds\n"
     ]
    }
   ],
   "source": [
    "start = time.time()\n",
    "z = zipfile.ZipFile('vietnam-war-bombing-operations.zip')\n",
    "aircrafts = pd.read_csv(z.open('THOR_Vietnam_Aircraft_Glossary.csv'), encoding = 'ISO-8859-1')\n",
    "weapons = pd.read_csv(z.open('THOR_Vietnam_Weapons_Glossary.csv'),encoding = 'ISO-8859-1')\n",
    "bombing_ops = pd.read_csv(z.open('THOR_Vietnam_Bombing_Operations.csv'), parse_dates = True)\n",
    "end = time.time()\n",
    "print(f'3 files loaded in {end - start} seconds')"
   ]
  },
  {
   "cell_type": "code",
   "execution_count": 3,
   "metadata": {},
   "outputs": [
    {
     "name": "stdout",
     "output_type": "stream",
     "text": [
      "------DATASET SHAPES------\n",
      "BOMBING OPS: (4670416, 47)\n",
      "AIRCRAFT: (104, 8)\n",
      "WEAPONS: (294, 6)\n"
     ]
    }
   ],
   "source": [
    "print('------DATASET SHAPES------')\n",
    "print('BOMBING OPS:', bombing_ops.shape)\n",
    "print('AIRCRAFT:', aircrafts.shape)\n",
    "print('WEAPONS:', weapons.shape)"
   ]
  },
  {
   "cell_type": "code",
   "execution_count": 3,
   "metadata": {},
   "outputs": [
    {
     "data": {
      "text/html": [
       "<div>\n",
       "<style scoped>\n",
       "    .dataframe tbody tr th:only-of-type {\n",
       "        vertical-align: middle;\n",
       "    }\n",
       "\n",
       "    .dataframe tbody tr th {\n",
       "        vertical-align: top;\n",
       "    }\n",
       "\n",
       "    .dataframe thead th {\n",
       "        text-align: right;\n",
       "    }\n",
       "</style>\n",
       "<table border=\"1\" class=\"dataframe\">\n",
       "  <thead>\n",
       "    <tr style=\"text-align: right;\">\n",
       "      <th></th>\n",
       "      <th>THOR_DATA_VIET_ID</th>\n",
       "      <th>COUNTRYFLYINGMISSION</th>\n",
       "      <th>MILSERVICE</th>\n",
       "      <th>MSNDATE</th>\n",
       "      <th>SOURCEID</th>\n",
       "      <th>SOURCERECORD</th>\n",
       "      <th>VALID_AIRCRAFT_ROOT</th>\n",
       "      <th>TAKEOFFLOCATION</th>\n",
       "      <th>TGTLATDD_DDD_WGS84</th>\n",
       "      <th>TGTLONDDD_DDD_WGS84</th>\n",
       "      <th>...</th>\n",
       "      <th>GEOZONE</th>\n",
       "      <th>ID</th>\n",
       "      <th>MFUNC_DESC_CLASS</th>\n",
       "      <th>NUMWEAPONSJETTISONED</th>\n",
       "      <th>NUMWEAPONSRETURNED</th>\n",
       "      <th>RELEASEALTITUDE</th>\n",
       "      <th>RELEASEFLTSPEED</th>\n",
       "      <th>RESULTSBDA</th>\n",
       "      <th>TIMEOFFTARGET</th>\n",
       "      <th>WEAPONSLOADEDWEIGHT</th>\n",
       "    </tr>\n",
       "  </thead>\n",
       "  <tbody>\n",
       "    <tr>\n",
       "      <th>0</th>\n",
       "      <td>351</td>\n",
       "      <td>UNITED STATES OF AMERICA</td>\n",
       "      <td>USAF</td>\n",
       "      <td>1971-06-05</td>\n",
       "      <td>647464</td>\n",
       "      <td>SEADAB</td>\n",
       "      <td>EC-47</td>\n",
       "      <td>TAN SON NHUT</td>\n",
       "      <td>NaN</td>\n",
       "      <td>NaN</td>\n",
       "      <td>...</td>\n",
       "      <td>NaN</td>\n",
       "      <td>27135863</td>\n",
       "      <td>NONKINETIC</td>\n",
       "      <td>-1</td>\n",
       "      <td>-1</td>\n",
       "      <td>NaN</td>\n",
       "      <td>NaN</td>\n",
       "      <td>NaN</td>\n",
       "      <td>1005.0</td>\n",
       "      <td>0</td>\n",
       "    </tr>\n",
       "    <tr>\n",
       "      <th>1</th>\n",
       "      <td>2</td>\n",
       "      <td>UNITED STATES OF AMERICA</td>\n",
       "      <td>USAF</td>\n",
       "      <td>1972-12-26</td>\n",
       "      <td>642778</td>\n",
       "      <td>SEADAB</td>\n",
       "      <td>EC-47</td>\n",
       "      <td>NAKHON PHANOM</td>\n",
       "      <td>NaN</td>\n",
       "      <td>NaN</td>\n",
       "      <td>...</td>\n",
       "      <td>NaN</td>\n",
       "      <td>27131177</td>\n",
       "      <td>NONKINETIC</td>\n",
       "      <td>-1</td>\n",
       "      <td>-1</td>\n",
       "      <td>NaN</td>\n",
       "      <td>NaN</td>\n",
       "      <td>NaN</td>\n",
       "      <td>530.0</td>\n",
       "      <td>0</td>\n",
       "    </tr>\n",
       "    <tr>\n",
       "      <th>2</th>\n",
       "      <td>3</td>\n",
       "      <td>UNITED STATES OF AMERICA</td>\n",
       "      <td>USAF</td>\n",
       "      <td>1973-07-28</td>\n",
       "      <td>642779</td>\n",
       "      <td>SEADAB</td>\n",
       "      <td>RF-4</td>\n",
       "      <td>UDORN AB</td>\n",
       "      <td>NaN</td>\n",
       "      <td>NaN</td>\n",
       "      <td>...</td>\n",
       "      <td>NaN</td>\n",
       "      <td>27131178</td>\n",
       "      <td>NONKINETIC</td>\n",
       "      <td>-1</td>\n",
       "      <td>-1</td>\n",
       "      <td>NaN</td>\n",
       "      <td>NaN</td>\n",
       "      <td>NaN</td>\n",
       "      <td>730.0</td>\n",
       "      <td>0</td>\n",
       "    </tr>\n",
       "  </tbody>\n",
       "</table>\n",
       "<p>3 rows × 47 columns</p>\n",
       "</div>"
      ],
      "text/plain": [
       "   THOR_DATA_VIET_ID      COUNTRYFLYINGMISSION MILSERVICE     MSNDATE  \\\n",
       "0                351  UNITED STATES OF AMERICA       USAF  1971-06-05   \n",
       "1                  2  UNITED STATES OF AMERICA       USAF  1972-12-26   \n",
       "2                  3  UNITED STATES OF AMERICA       USAF  1973-07-28   \n",
       "\n",
       "   SOURCEID SOURCERECORD VALID_AIRCRAFT_ROOT TAKEOFFLOCATION  \\\n",
       "0    647464       SEADAB               EC-47    TAN SON NHUT   \n",
       "1    642778       SEADAB               EC-47   NAKHON PHANOM   \n",
       "2    642779       SEADAB                RF-4        UDORN AB   \n",
       "\n",
       "   TGTLATDD_DDD_WGS84  TGTLONDDD_DDD_WGS84         ...         GEOZONE  \\\n",
       "0                 NaN                  NaN         ...             NaN   \n",
       "1                 NaN                  NaN         ...             NaN   \n",
       "2                 NaN                  NaN         ...             NaN   \n",
       "\n",
       "         ID  MFUNC_DESC_CLASS NUMWEAPONSJETTISONED  NUMWEAPONSRETURNED  \\\n",
       "0  27135863        NONKINETIC                   -1                  -1   \n",
       "1  27131177        NONKINETIC                   -1                  -1   \n",
       "2  27131178        NONKINETIC                   -1                  -1   \n",
       "\n",
       "   RELEASEALTITUDE RELEASEFLTSPEED RESULTSBDA TIMEOFFTARGET  \\\n",
       "0              NaN             NaN        NaN        1005.0   \n",
       "1              NaN             NaN        NaN         530.0   \n",
       "2              NaN             NaN        NaN         730.0   \n",
       "\n",
       "  WEAPONSLOADEDWEIGHT  \n",
       "0                   0  \n",
       "1                   0  \n",
       "2                   0  \n",
       "\n",
       "[3 rows x 47 columns]"
      ]
     },
     "execution_count": 3,
     "metadata": {},
     "output_type": "execute_result"
    }
   ],
   "source": [
    "bombing_ops.head(3)"
   ]
  },
  {
   "cell_type": "code",
   "execution_count": 7,
   "metadata": {},
   "outputs": [
    {
     "data": {
      "text/plain": [
       "Index(['COUNTRYFLYINGMISSION', 'MILSERVICE', 'MSNDATE', 'SOURCEID',\n",
       "       'SOURCERECORD', 'VALID_AIRCRAFT_ROOT', 'TAKEOFFLOCATION',\n",
       "       'TGTLATDD_DDD_WGS84', 'TGTLONDDD_DDD_WGS84', 'TGTTYPE',\n",
       "       'NUMWEAPONSDELIVERED', 'TIMEONTARGET', 'WEAPONTYPE', 'WEAPONTYPECLASS',\n",
       "       'WEAPONTYPEWEIGHT', 'AIRCRAFT_ORIGINAL', 'AIRCRAFT_ROOT',\n",
       "       'AIRFORCEGROUP', 'AIRFORCESQDN', 'CALLSIGN', 'FLTHOURS', 'MFUNC',\n",
       "       'MFUNC_DESC', 'MISSIONID', 'NUMOFACFT', 'OPERATIONSUPPORTED',\n",
       "       'PERIODOFDAY', 'UNIT', 'TGTCLOUDCOVER', 'TGTCONTROL', 'TGTCOUNTRY',\n",
       "       'TGTID', 'TGTORIGCOORDS', 'TGTORIGCOORDSFORMAT', 'TGTWEATHER',\n",
       "       'ADDITIONALINFO', 'GEOZONE', 'ID', 'MFUNC_DESC_CLASS',\n",
       "       'NUMWEAPONSJETTISONED', 'NUMWEAPONSRETURNED', 'RELEASEALTITUDE',\n",
       "       'RELEASEFLTSPEED', 'RESULTSBDA', 'TIMEOFFTARGET',\n",
       "       'WEAPONSLOADEDWEIGHT'],\n",
       "      dtype='object')"
      ]
     },
     "execution_count": 7,
     "metadata": {},
     "output_type": "execute_result"
    }
   ],
   "source": [
    "bombing_ops.columns"
   ]
  },
  {
   "cell_type": "code",
   "execution_count": 6,
   "metadata": {},
   "outputs": [
    {
     "data": {
      "text/html": [
       "<div>\n",
       "<style scoped>\n",
       "    .dataframe tbody tr th:only-of-type {\n",
       "        vertical-align: middle;\n",
       "    }\n",
       "\n",
       "    .dataframe tbody tr th {\n",
       "        vertical-align: top;\n",
       "    }\n",
       "\n",
       "    .dataframe thead th {\n",
       "        text-align: right;\n",
       "    }\n",
       "</style>\n",
       "<table border=\"1\" class=\"dataframe\">\n",
       "  <thead>\n",
       "    <tr style=\"text-align: right;\">\n",
       "      <th></th>\n",
       "      <th>GLOSS_ID</th>\n",
       "      <th>VALIDATED_ROOT</th>\n",
       "      <th>AIRCRAFT_NAME</th>\n",
       "      <th>WEBSITE_LINK</th>\n",
       "      <th>AIRCRAFT_TYPE</th>\n",
       "      <th>AIRCRAFT_SHORTNAME</th>\n",
       "      <th>AIRCRAFT_APPLICATION</th>\n",
       "      <th>AC_MISSION_COUNT</th>\n",
       "    </tr>\n",
       "  </thead>\n",
       "  <tbody>\n",
       "    <tr>\n",
       "      <th>0</th>\n",
       "      <td>1</td>\n",
       "      <td>A-1</td>\n",
       "      <td>Douglas A-1 Skyraider</td>\n",
       "      <td>http://www.navalaviationmuseum.org/attractions...</td>\n",
       "      <td>Fighter Jet</td>\n",
       "      <td>Skyraider</td>\n",
       "      <td>FIGHTER</td>\n",
       "      <td>373265</td>\n",
       "    </tr>\n",
       "    <tr>\n",
       "      <th>1</th>\n",
       "      <td>2</td>\n",
       "      <td>A-26</td>\n",
       "      <td>Douglas A-26 Invader</td>\n",
       "      <td>http://www.militaryfactory.com/aircraft/detail...</td>\n",
       "      <td>Light Bomber</td>\n",
       "      <td>Invader</td>\n",
       "      <td>BOMBER</td>\n",
       "      <td>36672</td>\n",
       "    </tr>\n",
       "    <tr>\n",
       "      <th>2</th>\n",
       "      <td>4</td>\n",
       "      <td>A-37</td>\n",
       "      <td>Cessna A-37 Dragonfly</td>\n",
       "      <td>http://www.militaryfactory.com/aircraft/detail...</td>\n",
       "      <td>Light ground-attack aircraft</td>\n",
       "      <td>Dragonfly</td>\n",
       "      <td>ATTACK</td>\n",
       "      <td>282699</td>\n",
       "    </tr>\n",
       "  </tbody>\n",
       "</table>\n",
       "</div>"
      ],
      "text/plain": [
       "   GLOSS_ID VALIDATED_ROOT          AIRCRAFT_NAME  \\\n",
       "0         1            A-1  Douglas A-1 Skyraider   \n",
       "1         2           A-26   Douglas A-26 Invader   \n",
       "2         4           A-37  Cessna A-37 Dragonfly   \n",
       "\n",
       "                                        WEBSITE_LINK  \\\n",
       "0  http://www.navalaviationmuseum.org/attractions...   \n",
       "1  http://www.militaryfactory.com/aircraft/detail...   \n",
       "2  http://www.militaryfactory.com/aircraft/detail...   \n",
       "\n",
       "                  AIRCRAFT_TYPE AIRCRAFT_SHORTNAME AIRCRAFT_APPLICATION  \\\n",
       "0                   Fighter Jet          Skyraider              FIGHTER   \n",
       "1                  Light Bomber            Invader               BOMBER   \n",
       "2  Light ground-attack aircraft          Dragonfly               ATTACK   \n",
       "\n",
       "   AC_MISSION_COUNT  \n",
       "0            373265  \n",
       "1             36672  \n",
       "2            282699  "
      ]
     },
     "execution_count": 6,
     "metadata": {},
     "output_type": "execute_result"
    }
   ],
   "source": [
    "aircrafts.head(3)"
   ]
  },
  {
   "cell_type": "code",
   "execution_count": 7,
   "metadata": {},
   "outputs": [
    {
     "data": {
      "text/plain": [
       "Index(['GLOSS_ID', 'VALIDATED_ROOT', 'AIRCRAFT_NAME', 'WEBSITE_LINK',\n",
       "       'AIRCRAFT_TYPE', 'AIRCRAFT_SHORTNAME', 'AIRCRAFT_APPLICATION',\n",
       "       'AC_MISSION_COUNT'],\n",
       "      dtype='object')"
      ]
     },
     "execution_count": 7,
     "metadata": {},
     "output_type": "execute_result"
    }
   ],
   "source": [
    "aircrafts.columns"
   ]
  },
  {
   "cell_type": "code",
   "execution_count": 8,
   "metadata": {},
   "outputs": [
    {
     "data": {
      "text/html": [
       "<div>\n",
       "<style scoped>\n",
       "    .dataframe tbody tr th:only-of-type {\n",
       "        vertical-align: middle;\n",
       "    }\n",
       "\n",
       "    .dataframe tbody tr th {\n",
       "        vertical-align: top;\n",
       "    }\n",
       "\n",
       "    .dataframe thead th {\n",
       "        text-align: right;\n",
       "    }\n",
       "</style>\n",
       "<table border=\"1\" class=\"dataframe\">\n",
       "  <thead>\n",
       "    <tr style=\"text-align: right;\">\n",
       "      <th></th>\n",
       "      <th>WEAPON_ID</th>\n",
       "      <th>WEAPONTYPE</th>\n",
       "      <th>WEAPONTYPE_COMMON_NAME</th>\n",
       "      <th>WEAPON_CLASS</th>\n",
       "      <th>WEAPONTYPE_DESC</th>\n",
       "      <th>WEAPON_COUNT</th>\n",
       "    </tr>\n",
       "  </thead>\n",
       "  <tbody>\n",
       "    <tr>\n",
       "      <th>0</th>\n",
       "      <td>1</td>\n",
       "      <td>100 GP</td>\n",
       "      <td>General Purpose Bomb</td>\n",
       "      <td>BOMB</td>\n",
       "      <td>100 lb general purpose</td>\n",
       "      <td>1</td>\n",
       "    </tr>\n",
       "    <tr>\n",
       "      <th>1</th>\n",
       "      <td>2</td>\n",
       "      <td>1000 G</td>\n",
       "      <td>Megaboller flash powder bomb</td>\n",
       "      <td>BOMB</td>\n",
       "      <td>1000 g BKS</td>\n",
       "      <td>2</td>\n",
       "    </tr>\n",
       "    <tr>\n",
       "      <th>2</th>\n",
       "      <td>3</td>\n",
       "      <td>1000LB GP M-65</td>\n",
       "      <td>An-M65</td>\n",
       "      <td>BOMB</td>\n",
       "      <td>1000 lb general purpose</td>\n",
       "      <td>12776</td>\n",
       "    </tr>\n",
       "  </tbody>\n",
       "</table>\n",
       "</div>"
      ],
      "text/plain": [
       "   WEAPON_ID      WEAPONTYPE        WEAPONTYPE_COMMON_NAME WEAPON_CLASS  \\\n",
       "0          1          100 GP          General Purpose Bomb         BOMB   \n",
       "1          2          1000 G  Megaboller flash powder bomb         BOMB   \n",
       "2          3  1000LB GP M-65                        An-M65         BOMB   \n",
       "\n",
       "            WEAPONTYPE_DESC  WEAPON_COUNT  \n",
       "0    100 lb general purpose             1  \n",
       "1                1000 g BKS             2  \n",
       "2  1000 lb general purpose          12776  "
      ]
     },
     "execution_count": 8,
     "metadata": {},
     "output_type": "execute_result"
    }
   ],
   "source": [
    "weapons.head(3)"
   ]
  },
  {
   "cell_type": "code",
   "execution_count": 9,
   "metadata": {},
   "outputs": [
    {
     "data": {
      "text/plain": [
       "Index(['WEAPON_ID', 'WEAPONTYPE', 'WEAPONTYPE_COMMON_NAME', 'WEAPON_CLASS',\n",
       "       'WEAPONTYPE_DESC', 'WEAPON_COUNT'],\n",
       "      dtype='object')"
      ]
     },
     "execution_count": 9,
     "metadata": {},
     "output_type": "execute_result"
    }
   ],
   "source": [
    "weapons.columns"
   ]
  },
  {
   "cell_type": "markdown",
   "metadata": {},
   "source": [
    "## Data Analysis and Visualization  \n",
    "### Which country flew the most combat missions?"
   ]
  },
  {
   "cell_type": "code",
   "execution_count": 8,
   "metadata": {},
   "outputs": [
    {
     "data": {
      "image/png": "[encoded data removed]",
      "text/plain": [
       "<Figure size 1080x720 with 1 Axes>"
      ]
     },
     "metadata": {
      "needs_background": "light"
     },
     "output_type": "display_data"
    }
   ],
   "source": [
    "country_missions = bombing_ops.COUNTRYFLYINGMISSION\n",
    "country_counts = country_missions.value_counts()\n",
    "x, y = country_counts.keys().tolist(), country_counts.values\n",
    "\n",
    "plt.figure(figsize = (15,10))\n",
    "ax = sns.barplot(x = x, y = y, palette = sns.color_palette('GnBu_d'))\n",
    "plt.xlabel('Country')\n",
    "plt.ylabel('# of Missions')\n",
    "plt.title('Missions Flown by Country')\n",
    "\n",
    "# From https://stackoverflow.com/questions/25447700/annotate-bars-with-values-on-pandas-bar-plots\n",
    "# Since SNS has no intuitive method to annotate\n",
    "for p in ax.patches: \n",
    "    ax.annotate(np.round(p.get_height(),decimals=2), (p.get_x()+p.get_width()/2., p.get_height()), ha='center', va='center', xytext=(0, 10), textcoords='offset points')"
   ]
  },
  {
   "cell_type": "markdown",
   "metadata": {},
   "source": [
    "As to be expected, the United States flew the most missions. South Vietnam came in second, which makes sense, given the resources and equipment the US provided for ARVN."
   ]
  },
  {
   "cell_type": "markdown",
   "metadata": {},
   "source": [
    "### Which branch flew the most missions for the United States?"
   ]
  },
  {
   "cell_type": "code",
   "execution_count": 9,
   "metadata": {},
   "outputs": [
    {
     "data": {
      "image/png": "[encoded data removed]",
      "text/plain": [
       "<Figure size 1080x720 with 1 Axes>"
      ]
     },
     "metadata": {
      "needs_background": "light"
     },
     "output_type": "display_data"
    }
   ],
   "source": [
    "branches = bombing_ops[bombing_ops.COUNTRYFLYINGMISSION == 'UNITED STATES OF AMERICA'].MILSERVICE\n",
    "branch_counts = branches.value_counts()\n",
    "x, y = branch_counts.keys().tolist(), branch_counts.values\n",
    "\n",
    "plt.figure(figsize = (15,10))\n",
    "ax = sns.barplot(x = x, y = y, palette = sns.color_palette('GnBu_d'))\n",
    "plt.xlabel('Service Branch')\n",
    "plt.ylabel('# of Missions')\n",
    "plt.title('Missions Flown by Service Branch')\n",
    "\n",
    "for p in ax.patches: \n",
    "    ax.annotate(np.round(p.get_height(),decimals=2), (p.get_x()+p.get_width()/2., p.get_height()), ha='center', va='center', xytext=(0, 10), textcoords='offset points')"
   ]
  },
  {
   "cell_type": "markdown",
   "metadata": {},
   "source": [
    "As expected, the US Air Force flew the most combat sorties of all the four branches. Interestingly, the Army has a number of sorties listed. However, the number is too small to be rotary-wing aircraft, so it seems the Army did have fixed-wing aviation in country during the Vietnam War."
   ]
  },
  {
   "cell_type": "markdown",
   "metadata": {},
   "source": [
    "### Which campaign saw the heaviest bombing, by tonnage?"
   ]
  },
  {
   "cell_type": "markdown",
   "metadata": {},
   "source": [
    "This is a tricky one. The dataset does not have intuitive methods to extract which campaign a sortie belongs to; some operations listed are not the same name as the official campaign they were part of. However, going just off date of mission means unrelated missions will be included with the campaign."
   ]
  },
  {
   "cell_type": "code",
   "execution_count": null,
   "metadata": {},
   "outputs": [],
   "source": [
    "ops = [\n",
    "    {\n",
    "        'name': 'Farm Hand'\n",
    "        'start': datetime(1962, 1, 13),\n",
    "        'end': datetime(1965, 1, 1)\n",
    "    },\n",
    "    {\n",
    "        'name': 'Operation Pierce Arrow',\n",
    "        'start': datetime(1964, 8, 5),\n",
    "        'end': datetime(1964, 8, 5)\n",
    "    },\n",
    "    {\n",
    "        'name': 'Operation Barrel Roll',\n",
    "        'start': datetime(1964, 8, 5),\n",
    "        'end': datetime(1964, 8, 5)\n",
    "    },\n",
    "    {\n",
    "        'name': 'Operation Pierce Arrow',\n",
    "        'start': datetime(1964, 8, 5),\n",
    "        'end': datetime(1964, 8, 5)\n",
    "    },\n",
    "]"
   ]
  },
  {
   "cell_type": "code",
   "execution_count": 14,
   "metadata": {},
   "outputs": [],
   "source": [
    "campaigns = bombing_ops[bombing_ops.NUMWEAPONSDELIVERED > 0]"
   ]
  },
  {
   "cell_type": "code",
   "execution_count": 22,
   "metadata": {},
   "outputs": [],
   "source": [
    "campaigns.dropna(axis = 0, subset = ['OPERATIONSUPPORTED'], inplace = True)\n",
    "campaigns['operation_agg'] = campaigns.OPERATIONSUPPORTED"
   ]
  },
  {
   "cell_type": "code",
   "execution_count": 40,
   "metadata": {},
   "outputs": [
    {
     "data": {
      "text/plain": [
       "IN COUNTRY                      308943\n",
       "IN COUNTRY - SOUTH VIETNAM      128125\n",
       "ROLLING THUN                     90473\n",
       "ROLLING THUN - ROLLING THUND     87752\n",
       "STEEL TIGER                      79518\n",
       "IN COUNTRY - VS                  53326\n",
       "STEEL TIGER - STEEL TIGER        50290\n",
       "BARREL ROLL - BARREL ROLL        14973\n",
       "IN COUNTRY - SVN                 14971\n",
       "STEEL TIGER - LA                 13027\n",
       "BARREL ROLL                       9436\n",
       "BARREL ROLL - FIREFLY             8057\n",
       "STEEL TIGER - HOBO                6608\n",
       "STEEL TIGER - COMBAT SKYSPOT      6519\n",
       "IGLOO WHITE - MUSCLE SHOALS       6218\n",
       "IN COUNTRY - COMBAT SKYSPOT       5931\n",
       "BARREL ROLL - ZORRO               5872\n",
       "BARREL ROLL - HOBO                4992\n",
       "IN COUNTRY - COMBAT SKYSPO        4781\n",
       "STEEL TIGER - LAOS                4733\n",
       "STEEL TIGER - ZORRO               4340\n",
       "IN COUNTRY - SKYSPOT              3560\n",
       "BARREL ROLL - LA                  3357\n",
       "IN COUNTRY - SVN HAWK    01       3258\n",
       "STEEL TIGER - NIMROD              3219\n",
       "IN COUNTRY - BLADE 01             3106\n",
       "IN COUNTRY - LITTER 03            3053\n",
       "STEEL TIGER - FIREFLY             2913\n",
       "IN COUNTRY - LITTER 01            2885\n",
       "IN COUNTRY - SVN HAWK    03       2737\n",
       "                                 ...  \n",
       "IN COUNTRY - LHOENIX                 1\n",
       "IN COUNTRY - S1PA11                  1\n",
       "IN COUNTRY - WISDOM JACKET           1\n",
       "IN COUNTRY - SVN RAP    21           1\n",
       "STEEL TIGER - MARLIN 1412            1\n",
       "STEEL TIGER - MANUAL  70             1\n",
       "ROLLING THUN - SUNVALLY-11           1\n",
       "IN COUNTRY - MANMEL  58              1\n",
       "IN COUNTRY - DELECATESIAN            1\n",
       "IN COUNTRY - DAG B                   1\n",
       "STEEL TIGER - CHALK                  1\n",
       "IN COUNTRY - TRAILERX14              1\n",
       "IN COUNTRY - DANAN G                 1\n",
       "STEEL TIGER - DRAT                   1\n",
       "IN COUNTRY - LOVEBUG 19              1\n",
       "IN COUNTRY - LINIT 91                1\n",
       "IN COUNTRY - YELLOW JACK 9U          1\n",
       "IN COUNTRY - SHADOWJM                1\n",
       "IN COUNTRY - ANTHER-81               1\n",
       "IN COUNTRY - MANUAL  76              1\n",
       "ROLLING THUN - SCHLTIZ               1\n",
       "IN COUNTRY - BIRMHAM                 1\n",
       "STEEL TIGER - BOBBIN I               1\n",
       "IN COUNTRY - RECAR                   1\n",
       "STEEL TIGER -  DONGHA                1\n",
       "IN COUNTRY - ABN ALERT&BNH           1\n",
       "ROLLING THUN - CCS                   1\n",
       "STEEL TIGER - MUSKRAT 0116           1\n",
       "ROLLING THUN - SCOTCH 0311           1\n",
       "IN COUNTRY - BR14002770              1\n",
       "Name: OPERATIONSUPPORTED, Length: 13574, dtype: int64"
      ]
     },
     "execution_count": 40,
     "metadata": {},
     "output_type": "execute_result"
    }
   ],
   "source": [
    "campaigns.OPERATIONSUPPORTED.value_counts()"
   ]
  },
  {
   "cell_type": "code",
   "execution_count": 31,
   "metadata": {},
   "outputs": [],
   "source": [
    "def sortie_tonnage(row):\n",
    "    return row.NUMWEAPONSDELIVERED * row.WEAPONTYPEWEIGHT\n",
    "\n",
    "campaigns['sortie_tonnage'] = campaigns.apply(sortie_tonnage, axis = 1)"
   ]
  },
  {
   "cell_type": "code",
   "execution_count": 17,
   "metadata": {},
   "outputs": [
    {
     "data": {
      "text/html": [
       "<div>\n",
       "<style scoped>\n",
       "    .dataframe tbody tr th:only-of-type {\n",
       "        vertical-align: middle;\n",
       "    }\n",
       "\n",
       "    .dataframe tbody tr th {\n",
       "        vertical-align: top;\n",
       "    }\n",
       "\n",
       "    .dataframe thead th {\n",
       "        text-align: right;\n",
       "    }\n",
       "</style>\n",
       "<table border=\"1\" class=\"dataframe\">\n",
       "  <thead>\n",
       "    <tr style=\"text-align: right;\">\n",
       "      <th></th>\n",
       "      <th>OPERATIONSUPPORTED</th>\n",
       "      <th>sortie_tonnage</th>\n",
       "    </tr>\n",
       "  </thead>\n",
       "  <tbody>\n",
       "    <tr>\n",
       "      <th>0</th>\n",
       "      <td>IN COUNTRY</td>\n",
       "      <td>1038835495</td>\n",
       "    </tr>\n",
       "    <tr>\n",
       "      <th>1</th>\n",
       "      <td>ROLLING THUN - ROLLING THUND</td>\n",
       "      <td>416148179</td>\n",
       "    </tr>\n",
       "    <tr>\n",
       "      <th>2</th>\n",
       "      <td>STEEL TIGER</td>\n",
       "      <td>415255170</td>\n",
       "    </tr>\n",
       "    <tr>\n",
       "      <th>3</th>\n",
       "      <td>ROLLING THUN</td>\n",
       "      <td>393183312</td>\n",
       "    </tr>\n",
       "    <tr>\n",
       "      <th>4</th>\n",
       "      <td>IN COUNTRY - SOUTH VIETNAM</td>\n",
       "      <td>344155008</td>\n",
       "    </tr>\n",
       "  </tbody>\n",
       "</table>\n",
       "</div>"
      ],
      "text/plain": [
       "             OPERATIONSUPPORTED  sortie_tonnage\n",
       "0                    IN COUNTRY      1038835495\n",
       "1  ROLLING THUN - ROLLING THUND       416148179\n",
       "2                   STEEL TIGER       415255170\n",
       "3                  ROLLING THUN       393183312\n",
       "4    IN COUNTRY - SOUTH VIETNAM       344155008"
      ]
     },
     "execution_count": 17,
     "metadata": {},
     "output_type": "execute_result"
    }
   ],
   "source": [
    "campaign_tonnage = campaigns.groupby('OPERATIONSUPPORTED').sum().sort_values(by = 'sortie_tonnage', ascending = False).sortie_tonnage.reset_index()\n",
    "campaign_tonnage.head()"
   ]
  },
  {
   "cell_type": "code",
   "execution_count": null,
   "metadata": {},
   "outputs": [],
   "source": [
    "plt.figure(figsize = (15,10))\n",
    "ax = sns.barplot(x = campaign_tonnage.OPERATIONSUPPORTED, y = campaign_tonnage.sortie_tonnage, palette = sns.color_palette('GnBu_d'))\n",
    "#plt.xlabel('Service Branch')\n",
    "#plt.ylabel('# of Missions')\n",
    "plt.title('Missions Flown by Service Branch')\n",
    "\n",
    "for p in ax.patches: \n",
    "    ax.annotate(np.round(p.get_height(),decimals=2), (p.get_x()+p.get_width()/2., p.get_height()), ha='center', va='center', xytext=(0, 10), textcoords='offset points')"
   ]
  },
  {
   "cell_type": "markdown",
   "metadata": {},
   "source": [
    "### Can we predict the country of origin for a bombing mission, given the sortie characteristics?"
   ]
  },
  {
   "cell_type": "code",
   "execution_count": 41,
   "metadata": {},
   "outputs": [],
   "source": [
    "import numpy as np\n",
    "import pandas as pd\n",
    "import scipy as sp\n",
    "import sklearn as sk\n",
    "from sklearn.model_selection import train_test_split\n",
    "from sklearn.model_selection import cross_val_score\n",
    "import sklearn.ensemble as skens\n",
    "import sklearn.metrics as skmetric\n",
    "import sklearn.naive_bayes as sknb\n",
    "import sklearn.tree as sktree"
   ]
  },
  {
   "cell_type": "code",
   "execution_count": 45,
   "metadata": {},
   "outputs": [],
   "source": [
    "bombing_ml = bombing_ops.copy()\n",
    "col = 'COUNTRYFLYINGMISSION'\n",
    "conditions  = [\n",
    "    bombing_ops[col] == 'UNITED STATES OF AMERICA', \n",
    "    bombing_ops[col] == 'VIETNAM (SOUTH)',\n",
    "    bombing_ops[col] == 'LAOS',\n",
    "    bombing_ops[col] == 'KOREA (SOUTH)',\n",
    "    bombing_ops[col] == 'AUSTRALIA'\n",
    "]\n",
    "choices     = [ 0, 1, 2, 3, 4 ]\n",
    "\n",
    "bombing_ml['type'] = np.select(conditions, choices, default=np.nan).astype('int')"
   ]
  },
  {
   "cell_type": "code",
   "execution_count": 48,
   "metadata": {},
   "outputs": [
    {
     "data": {
      "text/html": [
       "<div>\n",
       "<style scoped>\n",
       "    .dataframe tbody tr th:only-of-type {\n",
       "        vertical-align: middle;\n",
       "    }\n",
       "\n",
       "    .dataframe tbody tr th {\n",
       "        vertical-align: top;\n",
       "    }\n",
       "\n",
       "    .dataframe thead th {\n",
       "        text-align: right;\n",
       "    }\n",
       "</style>\n",
       "<table border=\"1\" class=\"dataframe\">\n",
       "  <thead>\n",
       "    <tr style=\"text-align: right;\">\n",
       "      <th></th>\n",
       "      <th>THOR_DATA_VIET_ID</th>\n",
       "      <th>MILSERVICE</th>\n",
       "      <th>MSNDATE</th>\n",
       "      <th>SOURCEID</th>\n",
       "      <th>SOURCERECORD</th>\n",
       "      <th>VALID_AIRCRAFT_ROOT</th>\n",
       "      <th>TAKEOFFLOCATION</th>\n",
       "      <th>TGTLATDD_DDD_WGS84</th>\n",
       "      <th>TGTLONDDD_DDD_WGS84</th>\n",
       "      <th>TGTTYPE</th>\n",
       "      <th>...</th>\n",
       "      <th>ID</th>\n",
       "      <th>MFUNC_DESC_CLASS</th>\n",
       "      <th>NUMWEAPONSJETTISONED</th>\n",
       "      <th>NUMWEAPONSRETURNED</th>\n",
       "      <th>RELEASEALTITUDE</th>\n",
       "      <th>RELEASEFLTSPEED</th>\n",
       "      <th>RESULTSBDA</th>\n",
       "      <th>TIMEOFFTARGET</th>\n",
       "      <th>WEAPONSLOADEDWEIGHT</th>\n",
       "      <th>type</th>\n",
       "    </tr>\n",
       "  </thead>\n",
       "  <tbody>\n",
       "    <tr>\n",
       "      <th>0</th>\n",
       "      <td>351</td>\n",
       "      <td>USAF</td>\n",
       "      <td>1971-06-05</td>\n",
       "      <td>647464</td>\n",
       "      <td>SEADAB</td>\n",
       "      <td>EC-47</td>\n",
       "      <td>TAN SON NHUT</td>\n",
       "      <td>NaN</td>\n",
       "      <td>NaN</td>\n",
       "      <td>NaN</td>\n",
       "      <td>...</td>\n",
       "      <td>27135863</td>\n",
       "      <td>NONKINETIC</td>\n",
       "      <td>-1</td>\n",
       "      <td>-1</td>\n",
       "      <td>NaN</td>\n",
       "      <td>NaN</td>\n",
       "      <td>NaN</td>\n",
       "      <td>1005.0</td>\n",
       "      <td>0</td>\n",
       "      <td>0</td>\n",
       "    </tr>\n",
       "    <tr>\n",
       "      <th>1</th>\n",
       "      <td>2</td>\n",
       "      <td>USAF</td>\n",
       "      <td>1972-12-26</td>\n",
       "      <td>642778</td>\n",
       "      <td>SEADAB</td>\n",
       "      <td>EC-47</td>\n",
       "      <td>NAKHON PHANOM</td>\n",
       "      <td>NaN</td>\n",
       "      <td>NaN</td>\n",
       "      <td>NaN</td>\n",
       "      <td>...</td>\n",
       "      <td>27131177</td>\n",
       "      <td>NONKINETIC</td>\n",
       "      <td>-1</td>\n",
       "      <td>-1</td>\n",
       "      <td>NaN</td>\n",
       "      <td>NaN</td>\n",
       "      <td>NaN</td>\n",
       "      <td>530.0</td>\n",
       "      <td>0</td>\n",
       "      <td>0</td>\n",
       "    </tr>\n",
       "    <tr>\n",
       "      <th>2</th>\n",
       "      <td>3</td>\n",
       "      <td>USAF</td>\n",
       "      <td>1973-07-28</td>\n",
       "      <td>642779</td>\n",
       "      <td>SEADAB</td>\n",
       "      <td>RF-4</td>\n",
       "      <td>UDORN AB</td>\n",
       "      <td>NaN</td>\n",
       "      <td>NaN</td>\n",
       "      <td>NaN</td>\n",
       "      <td>...</td>\n",
       "      <td>27131178</td>\n",
       "      <td>NONKINETIC</td>\n",
       "      <td>-1</td>\n",
       "      <td>-1</td>\n",
       "      <td>NaN</td>\n",
       "      <td>NaN</td>\n",
       "      <td>NaN</td>\n",
       "      <td>730.0</td>\n",
       "      <td>0</td>\n",
       "      <td>0</td>\n",
       "    </tr>\n",
       "    <tr>\n",
       "      <th>3</th>\n",
       "      <td>4</td>\n",
       "      <td>USAF</td>\n",
       "      <td>1970-02-02</td>\n",
       "      <td>642780</td>\n",
       "      <td>SEADAB</td>\n",
       "      <td>A-1</td>\n",
       "      <td>NAKHON PHANOM</td>\n",
       "      <td>16.902500</td>\n",
       "      <td>106.014166</td>\n",
       "      <td>TRUCKS</td>\n",
       "      <td>...</td>\n",
       "      <td>27131179</td>\n",
       "      <td>KINETIC</td>\n",
       "      <td>-1</td>\n",
       "      <td>-1</td>\n",
       "      <td>NaN</td>\n",
       "      <td>NaN</td>\n",
       "      <td>SECONDARY FIRE</td>\n",
       "      <td>1415.0</td>\n",
       "      <td>17400</td>\n",
       "      <td>0</td>\n",
       "    </tr>\n",
       "    <tr>\n",
       "      <th>4</th>\n",
       "      <td>5</td>\n",
       "      <td>VNAF</td>\n",
       "      <td>1970-10-08</td>\n",
       "      <td>642781</td>\n",
       "      <td>SEADAB</td>\n",
       "      <td>A-37</td>\n",
       "      <td>DANANG</td>\n",
       "      <td>14.945555</td>\n",
       "      <td>108.257222</td>\n",
       "      <td>BASE CAMP AREA</td>\n",
       "      <td>...</td>\n",
       "      <td>27131180</td>\n",
       "      <td>KINETIC</td>\n",
       "      <td>-1</td>\n",
       "      <td>-1</td>\n",
       "      <td>NaN</td>\n",
       "      <td>NaN</td>\n",
       "      <td>RNO WEATHER</td>\n",
       "      <td>1240.0</td>\n",
       "      <td>0</td>\n",
       "      <td>1</td>\n",
       "    </tr>\n",
       "  </tbody>\n",
       "</table>\n",
       "<p>5 rows × 47 columns</p>\n",
       "</div>"
      ],
      "text/plain": [
       "   THOR_DATA_VIET_ID MILSERVICE     MSNDATE  SOURCEID SOURCERECORD  \\\n",
       "0                351       USAF  1971-06-05    647464       SEADAB   \n",
       "1                  2       USAF  1972-12-26    642778       SEADAB   \n",
       "2                  3       USAF  1973-07-28    642779       SEADAB   \n",
       "3                  4       USAF  1970-02-02    642780       SEADAB   \n",
       "4                  5       VNAF  1970-10-08    642781       SEADAB   \n",
       "\n",
       "  VALID_AIRCRAFT_ROOT TAKEOFFLOCATION  TGTLATDD_DDD_WGS84  \\\n",
       "0               EC-47    TAN SON NHUT                 NaN   \n",
       "1               EC-47   NAKHON PHANOM                 NaN   \n",
       "2                RF-4        UDORN AB                 NaN   \n",
       "3                 A-1   NAKHON PHANOM           16.902500   \n",
       "4                A-37          DANANG           14.945555   \n",
       "\n",
       "   TGTLONDDD_DDD_WGS84         TGTTYPE ...         ID  MFUNC_DESC_CLASS  \\\n",
       "0                  NaN             NaN ...   27135863        NONKINETIC   \n",
       "1                  NaN             NaN ...   27131177        NONKINETIC   \n",
       "2                  NaN             NaN ...   27131178        NONKINETIC   \n",
       "3           106.014166          TRUCKS ...   27131179           KINETIC   \n",
       "4           108.257222  BASE CAMP AREA ...   27131180           KINETIC   \n",
       "\n",
       "  NUMWEAPONSJETTISONED  NUMWEAPONSRETURNED  RELEASEALTITUDE RELEASEFLTSPEED  \\\n",
       "0                   -1                  -1              NaN             NaN   \n",
       "1                   -1                  -1              NaN             NaN   \n",
       "2                   -1                  -1              NaN             NaN   \n",
       "3                   -1                  -1              NaN             NaN   \n",
       "4                   -1                  -1              NaN             NaN   \n",
       "\n",
       "       RESULTSBDA TIMEOFFTARGET WEAPONSLOADEDWEIGHT type  \n",
       "0             NaN        1005.0                   0    0  \n",
       "1             NaN         530.0                   0    0  \n",
       "2             NaN         730.0                   0    0  \n",
       "3  SECONDARY FIRE        1415.0               17400    0  \n",
       "4     RNO WEATHER        1240.0                   0    1  \n",
       "\n",
       "[5 rows x 47 columns]"
      ]
     },
     "execution_count": 48,
     "metadata": {},
     "output_type": "execute_result"
    }
   ],
   "source": [
    "bombing_ml.drop(labels = 'COUNTRYFLYINGMISSION', axis = 1, inplace = True)\n",
    "bombing_ml.head()"
   ]
  },
  {
   "cell_type": "code",
   "execution_count": null,
   "metadata": {},
   "outputs": [],
   "source": [
    "bombing_final = pd.get_dummies(bombing_ml, drop_first = True)\n",
    "bombing_train, bombing_test = train_test_split(bombing_final, test_size = 0.2)\n",
    "bombing_score = bombing_test.copy() # For score assessment"
   ]
  },
  {
   "cell_type": "code",
   "execution_count": null,
   "metadata": {},
   "outputs": [],
   "source": [
    "df_rf = skens.RandomForestClassifier(n_estimators = 10, oob_score = True, criterion = 'entropy', random_state = 42)\n",
    "df_rf.fit(bombing_train.iloc[:,bombing_train.columns != 'type'], bombing_train.type)"
   ]
  }
 ],
 "metadata": {
  "kernelspec": {
   "display_name": "Python 3",
   "language": "python",
   "name": "python3"
  },
  "language_info": {
   "codemirror_mode": {
    "name": "ipython",
    "version": 3
   },
   "file_extension": ".py",
   "mimetype": "text/x-python",
   "name": "python",
   "nbconvert_exporter": "python",
   "pygments_lexer": "ipython3",
   "version": "3.7.1"
  }
 },
 "nbformat": 4,
 "nbformat_minor": 2
}
